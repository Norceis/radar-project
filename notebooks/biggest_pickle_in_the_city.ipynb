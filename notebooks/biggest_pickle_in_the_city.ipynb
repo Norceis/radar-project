{
 "cells": [
  {
   "cell_type": "code",
   "execution_count": 8,
   "metadata": {
    "collapsed": true
   },
   "outputs": [],
   "source": [
    "import glob\n",
    "import pickle\n",
    "import numpy as np\n",
    "# Directory path where the pickle files are located\n",
    "directory_path = 'pickles/'\n",
    "\n",
    "# Get a list of all pickle files ending with 'X' in the directory\n",
    "file_paths = glob.glob(directory_path + '*X.pkl')\n",
    "\n",
    "# Load pickle files\n",
    "loaded_data = []\n",
    "for file_path in file_paths:\n",
    "    with open(file_path, 'rb') as file:\n",
    "        loaded_data.append(pickle.load(file))"
   ]
  },
  {
   "cell_type": "code",
   "execution_count": 9,
   "outputs": [
    {
     "name": "stdout",
     "output_type": "stream",
     "text": [
      "(14062, 5, 50, 10)\n",
      "(6841, 5, 50, 10)\n",
      "(12551, 5, 50, 10)\n",
      "(15285, 5, 50, 10)\n",
      "(13232, 5, 50, 10)\n",
      "(16177, 5, 50, 10)\n",
      "(14077, 5, 50, 10)\n",
      "(19774, 5, 50, 10)\n",
      "(12510, 5, 50, 10)\n",
      "(16075, 5, 50, 10)\n",
      "(11853, 5, 50, 10)\n",
      "(13403, 5, 50, 10)\n"
     ]
    }
   ],
   "source": [
    "for a in range(len(loaded_data)):\n",
    "    print(loaded_data[a].shape)"
   ],
   "metadata": {
    "collapsed": false,
    "pycharm": {
     "name": "#%%\n"
    }
   }
  },
  {
   "cell_type": "code",
   "execution_count": 10,
   "outputs": [],
   "source": [
    "X = loaded_data[0]"
   ],
   "metadata": {
    "collapsed": false,
    "pycharm": {
     "name": "#%%\n"
    }
   }
  },
  {
   "cell_type": "code",
   "execution_count": 11,
   "outputs": [],
   "source": [
    "for set in loaded_data[1:]:\n",
    "    X = np.concatenate((X, set), axis=0)"
   ],
   "metadata": {
    "collapsed": false,
    "pycharm": {
     "name": "#%%\n"
    }
   }
  },
  {
   "cell_type": "code",
   "execution_count": 12,
   "outputs": [
    {
     "data": {
      "text/plain": "(165840, 5, 50, 10)"
     },
     "execution_count": 12,
     "metadata": {},
     "output_type": "execute_result"
    }
   ],
   "source": [
    "X.shape"
   ],
   "metadata": {
    "collapsed": false,
    "pycharm": {
     "name": "#%%\n"
    }
   }
  },
  {
   "cell_type": "code",
   "execution_count": 13,
   "outputs": [],
   "source": [
    "with open('pickles/X.pkl', 'wb') as f:\n",
    "    pickle.dump(X, f)\n",
    "f.close()"
   ],
   "metadata": {
    "collapsed": false,
    "pycharm": {
     "name": "#%%\n"
    }
   }
  },
  {
   "cell_type": "code",
   "execution_count": null,
   "outputs": [],
   "source": [],
   "metadata": {
    "collapsed": false,
    "pycharm": {
     "name": "#%%\n"
    }
   }
  }
 ],
 "metadata": {
  "kernelspec": {
   "display_name": "Python 3",
   "language": "python",
   "name": "python3"
  },
  "language_info": {
   "codemirror_mode": {
    "name": "ipython",
    "version": 2
   },
   "file_extension": ".py",
   "mimetype": "text/x-python",
   "name": "python",
   "nbconvert_exporter": "python",
   "pygments_lexer": "ipython2",
   "version": "2.7.6"
  }
 },
 "nbformat": 4,
 "nbformat_minor": 0
}