{
 "cells": [
  {
   "cell_type": "code",
   "execution_count": 1,
   "metadata": {
    "collapsed": true
   },
   "outputs": [],
   "source": [
    "import h5py\n",
    "import numpy as  np\n",
    "from pathlib import Path\n",
    "\n",
    "from source.preprocessHighFPS import yield_aggregate_bin_files, aggregate_bin_files, _to_analytic, _load_file, _chunk_to_fft, _get_radar_filenames\n"
   ]
  },
  {
   "cell_type": "code",
   "execution_count": 2,
   "outputs": [],
   "source": [
    "BASE_DIR = Path(\"D:/Studia/sium/semestr3/radar-project\")  # change to your project dir\n",
    "RADAR_DIR = BASE_DIR / \"data/2023_03_21/chodzonko\"  # day dir"
   ],
   "metadata": {
    "collapsed": false,
    "pycharm": {
     "name": "#%%\n"
    }
   }
  },
  {
   "cell_type": "code",
   "execution_count": 3,
   "outputs": [],
   "source": [
    "data = yield_aggregate_bin_files('2023_03_21', 3,chunk_length=1, radar_dir=RADAR_DIR)\n"
   ],
   "metadata": {
    "collapsed": false,
    "pycharm": {
     "name": "#%%\n"
    }
   }
  },
  {
   "cell_type": "code",
   "execution_count": 5,
   "outputs": [],
   "source": [
    "try:\n",
    "    h5file = h5py.File('dataset.h5','r+')\n",
    "except:\n",
    "    print('File not exist, creating file')\n",
    "    h5file = h5py.File('dataset.h5','w')\n",
    "\n",
    "# jak będzimey zmieniać numerki to możemy w jednym datasecie mieć wszystkie pomiary\n",
    "h5group =h5file.create_group('8') # numer pliku z a_list_of_samples\n",
    "h5dset =  h5group.create_dataset(name='dataset_8',\n",
    "                                 shape=(1, 3, 4, 512),\n",
    "                                 maxshape=(None,3,4,512),\n",
    "                                 dtype= np.complex128,\n",
    "                                 compression='gzip', shuffle=True)\n"
   ],
   "metadata": {
    "collapsed": false,
    "pycharm": {
     "name": "#%%\n"
    }
   }
  },
  {
   "cell_type": "code",
   "execution_count": 6,
   "outputs": [
    {
     "name": "stderr",
     "output_type": "stream",
     "text": [
      "WARNING:root:D:\\Studia\\sium\\semestr3\\radar-project\\data\\2023_03_21\\chodzonko\\2023_03_21_randomowe_chodzonko_1os_bartek_Raw_0.bin\n",
      "WARNING:root:CHUNK EOF @ 0 frame\n"
     ]
    },
    {
     "name": "stdout",
     "output_type": "stream",
     "text": [
      "File converted\n",
      "Chunks number: 19884\n"
     ]
    }
   ],
   "source": [
    "i = 0\n",
    "while True:\n",
    "    try:\n",
    "        chunk = next(data)\n",
    "        chunk = _to_analytic(chunk)\n",
    "    except ValueError:\n",
    "        print('File converted')\n",
    "        print(f'Chunks number: {i}')\n",
    "        break\n",
    "\n",
    "    if i != 0:\n",
    "        h5dset.resize(h5dset.shape[0]+1, axis=0)\n",
    "\n",
    "    h5dset[i,:,:,:] = chunk[0,:,:,:]\n",
    "    i+=1\n"
   ],
   "metadata": {
    "collapsed": false,
    "pycharm": {
     "name": "#%%\n"
    }
   }
  },
  {
   "cell_type": "code",
   "execution_count": 7,
   "outputs": [],
   "source": [
    "h5file.close()"
   ],
   "metadata": {
    "collapsed": false,
    "pycharm": {
     "name": "#%%\n"
    }
   }
  },
  {
   "cell_type": "code",
   "execution_count": 103,
   "outputs": [],
   "source": [
    "loaded_file = h5py.File('dataset.h5','r')\n",
    "frames = loaded_file['13']['dataset_13']"
   ],
   "metadata": {
    "collapsed": false,
    "pycharm": {
     "name": "#%%\n"
    }
   }
  },
  {
   "cell_type": "markdown",
   "source": [],
   "metadata": {
    "collapsed": false,
    "pycharm": {
     "name": "#%% md\n"
    }
   }
  },
  {
   "cell_type": "code",
   "execution_count": 104,
   "outputs": [
    {
     "data": {
      "text/plain": "array([[[  18.+138.j,  -68. +23.j,  -78.  +3.j, ...,  -45.  -8.j,\n          -35. -31.j,   -2. -42.j],\n        [-183.-123.j,  -50. +81.j,  -68. +56.j, ...,    5. -32.j,\n           24.  -3.j,   22. +12.j],\n        [-109. +64.j,  -87.+104.j,  -82. +89.j, ...,    9. -26.j,\n           38. -17.j,   54. +22.j],\n        [-171.+268.j,  186.+133.j,  189.+139.j, ...,  -64. +44.j,\n          -43.  +4.j,  -15. -20.j]],\n\n       [[ 116. +13.j,  -44. -57.j,  -31. -55.j, ...,  -29. -43.j,\n           13. -51.j,   49. -34.j],\n        [-182.+109.j,  134. +95.j,  141.+122.j, ...,  -41.  +5.j,\n          -28. -28.j,   17. -16.j],\n        [  59. +93.j,  -57. -14.j,  -45. -26.j, ...,  -16. -33.j,\n           14. -49.j,   23. -31.j],\n        [ -86.+139.j,  245.  +8.j,  269. +55.j, ...,  -43. -10.j,\n          -32. -43.j,  -10. -34.j]],\n\n       [[  95.+159.j,  -35.-101.j,   13.-114.j, ...,  -13. -71.j,\n           27. -60.j,   81. -42.j],\n        [-180. -95.j,   15. +78.j,    0. +84.j, ...,  -17.  -3.j,\n          -17. -23.j,   -7. -34.j],\n        [ 138.+168.j,   19. -92.j,   64.-106.j, ...,  -41. +79.j,\n          -75. +50.j,  -80.  -6.j],\n        [ -29.-203.j, -108. +51.j, -140. +13.j, ...,   10. +89.j,\n          -71. +89.j,  -99. +17.j]]])"
     },
     "execution_count": 104,
     "metadata": {},
     "output_type": "execute_result"
    }
   ],
   "source": [
    "frames[0]"
   ],
   "metadata": {
    "collapsed": false,
    "pycharm": {
     "name": "#%%\n"
    }
   }
  },
  {
   "cell_type": "code",
   "execution_count": 105,
   "outputs": [],
   "source": [
    "loaded_file.close()"
   ],
   "metadata": {
    "collapsed": false,
    "pycharm": {
     "name": "#%%\n"
    }
   }
  },
  {
   "cell_type": "code",
   "execution_count": null,
   "outputs": [],
   "source": [],
   "metadata": {
    "collapsed": false,
    "pycharm": {
     "name": "#%%\n"
    }
   }
  }
 ],
 "metadata": {
  "kernelspec": {
   "display_name": "Python 3",
   "language": "python",
   "name": "python3"
  },
  "language_info": {
   "codemirror_mode": {
    "name": "ipython",
    "version": 2
   },
   "file_extension": ".py",
   "mimetype": "text/x-python",
   "name": "python",
   "nbconvert_exporter": "python",
   "pygments_lexer": "ipython2",
   "version": "2.7.6"
  }
 },
 "nbformat": 4,
 "nbformat_minor": 0
}