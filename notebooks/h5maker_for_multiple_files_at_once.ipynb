{
 "cells": [
  {
   "cell_type": "code",
   "execution_count": 1,
   "metadata": {
    "collapsed": true,
    "ExecuteTime": {
     "end_time": "2023-05-25T19:27:57.860511Z",
     "start_time": "2023-05-25T19:27:56.791838500Z"
    }
   },
   "outputs": [],
   "source": [
    "import h5py\n",
    "import numpy as  np\n",
    "from pathlib import Path\n",
    "\n",
    "from source.preprocessHighFPS import yield_aggregate_bin_files, aggregate_bin_files, \\\n",
    "                                        _to_analytic, _load_file, _chunk_to_fft, _get_radar_filenames,  yield_aggregate_bin_files_new\n",
    "from source.helper import *\n"
   ]
  },
  {
   "cell_type": "code",
   "execution_count": 2,
   "outputs": [],
   "source": [
    "BASE_DIR = Path(\"E:/radar-project\")  # change to your project dir\n",
    "RADAR_DIR = BASE_DIR / \"data/2023_05_08\"  # day dir\n",
    "GROUP_NAME = '2023_05_08' # nazwa grupy (np. dzień pomiaru), de facto to tylko kolejny wymiar\n",
    "H5_FILENAME = 'complete_dataset'\n",
    "SEPARATE_FILES = False"
   ],
   "metadata": {
    "collapsed": false,
    "ExecuteTime": {
     "end_time": "2023-05-25T19:27:57.860511Z",
     "start_time": "2023-05-25T19:27:57.859513700Z"
    }
   }
  },
  {
   "cell_type": "code",
   "execution_count": 3,
   "outputs": [],
   "source": [
    "files = [\n",
    "        'background',\n",
    "        'rafal',\n",
    "        'bartek',\n",
    "        'oskar',\n",
    "        'kuba',\n",
    "        'oddychacz_3m_o0_s100',\n",
    "        'oddychacz_3m_o30_s100',\n",
    "        'oddychacz_3m_o30_s0',\n",
    "        'oddychacz_2m_o0_s100',\n",
    "        'oddychacz_2m_o30_s100',\n",
    "        'oddychacz_2m_o30_s0',\n",
    "        'oddychacz_4m_o0_s100',\n",
    "        'oddychacz_4m_o30_s0',\n",
    "        'oddychacz_4m_o30_s100',\n",
    "        'wiatrak_4m',\n",
    "        'wiatrak_3m',\n",
    "        'wiatrak_2m',\n",
    "        'wiatrak_foliarz_2m',\n",
    "        'wiatrak_foliarz_3m',\n",
    "        'wiatrak_foliarz_4m',\n",
    "        'randomowe_chodzonko_bartek',\n",
    "        'randomowe_chodzonko_rafal',\n",
    "        'randomowe_chodzonko_kuba',\n",
    "        'randomowe_chodzonko_oskar',\n",
    "        'samochod',\n",
    "         ]"
   ],
   "metadata": {
    "collapsed": false,
    "ExecuteTime": {
     "end_time": "2023-05-25T19:10:03.042751Z",
     "start_time": "2023-05-25T19:10:03.038734700Z"
    }
   }
  },
  {
   "cell_type": "code",
   "execution_count": 11,
   "outputs": [
    {
     "ename": "ValueError",
     "evalue": "Unable to create group (name already exists)",
     "output_type": "error",
     "traceback": [
      "\u001B[1;31m---------------------------------------------------------------------------\u001B[0m",
      "\u001B[1;31mValueError\u001B[0m                                Traceback (most recent call last)",
      "Cell \u001B[1;32mIn[11], line 7\u001B[0m\n\u001B[0;32m      4\u001B[0m     \u001B[38;5;28mprint\u001B[39m(\u001B[38;5;124m'\u001B[39m\u001B[38;5;124mFile not exist, creating file\u001B[39m\u001B[38;5;124m'\u001B[39m)\n\u001B[0;32m      5\u001B[0m     h5file \u001B[38;5;241m=\u001B[39m h5py\u001B[38;5;241m.\u001B[39mFile(\u001B[38;5;124m'\u001B[39m\u001B[38;5;124m../data/\u001B[39m\u001B[38;5;124m'\u001B[39m\u001B[38;5;241m+\u001B[39m H5_FILENAME \u001B[38;5;241m+\u001B[39m \u001B[38;5;124m'\u001B[39m\u001B[38;5;124m.h5\u001B[39m\u001B[38;5;124m'\u001B[39m,\u001B[38;5;124m'\u001B[39m\u001B[38;5;124mw\u001B[39m\u001B[38;5;124m'\u001B[39m)\n\u001B[1;32m----> 7\u001B[0m h5group \u001B[38;5;241m=\u001B[39m \u001B[43mh5file\u001B[49m\u001B[38;5;241;43m.\u001B[39;49m\u001B[43mcreate_group\u001B[49m\u001B[43m(\u001B[49m\u001B[43mGROUP_NAME\u001B[49m\u001B[43m)\u001B[49m\n\u001B[0;32m      9\u001B[0m \u001B[38;5;28;01mfor\u001B[39;00m idx, file \u001B[38;5;129;01min\u001B[39;00m \u001B[38;5;28menumerate\u001B[39m(files):\n\u001B[0;32m     11\u001B[0m     i \u001B[38;5;241m=\u001B[39m \u001B[38;5;241m0\u001B[39m\n",
      "File \u001B[1;32mE:\\radar-project\\venv\\Lib\\site-packages\\h5py\\_hl\\group.py:64\u001B[0m, in \u001B[0;36mGroup.create_group\u001B[1;34m(self, name, track_order)\u001B[0m\n\u001B[0;32m     62\u001B[0m name, lcpl \u001B[38;5;241m=\u001B[39m \u001B[38;5;28mself\u001B[39m\u001B[38;5;241m.\u001B[39m_e(name, lcpl\u001B[38;5;241m=\u001B[39m\u001B[38;5;28;01mTrue\u001B[39;00m)\n\u001B[0;32m     63\u001B[0m gcpl \u001B[38;5;241m=\u001B[39m Group\u001B[38;5;241m.\u001B[39m_gcpl_crt_order \u001B[38;5;28;01mif\u001B[39;00m track_order \u001B[38;5;28;01melse\u001B[39;00m \u001B[38;5;28;01mNone\u001B[39;00m\n\u001B[1;32m---> 64\u001B[0m gid \u001B[38;5;241m=\u001B[39m \u001B[43mh5g\u001B[49m\u001B[38;5;241;43m.\u001B[39;49m\u001B[43mcreate\u001B[49m\u001B[43m(\u001B[49m\u001B[38;5;28;43mself\u001B[39;49m\u001B[38;5;241;43m.\u001B[39;49m\u001B[43mid\u001B[49m\u001B[43m,\u001B[49m\u001B[43m \u001B[49m\u001B[43mname\u001B[49m\u001B[43m,\u001B[49m\u001B[43m \u001B[49m\u001B[43mlcpl\u001B[49m\u001B[38;5;241;43m=\u001B[39;49m\u001B[43mlcpl\u001B[49m\u001B[43m,\u001B[49m\u001B[43m \u001B[49m\u001B[43mgcpl\u001B[49m\u001B[38;5;241;43m=\u001B[39;49m\u001B[43mgcpl\u001B[49m\u001B[43m)\u001B[49m\n\u001B[0;32m     65\u001B[0m \u001B[38;5;28;01mreturn\u001B[39;00m Group(gid)\n",
      "File \u001B[1;32mh5py\\_objects.pyx:54\u001B[0m, in \u001B[0;36mh5py._objects.with_phil.wrapper\u001B[1;34m()\u001B[0m\n",
      "File \u001B[1;32mh5py\\_objects.pyx:55\u001B[0m, in \u001B[0;36mh5py._objects.with_phil.wrapper\u001B[1;34m()\u001B[0m\n",
      "File \u001B[1;32mh5py\\h5g.pyx:166\u001B[0m, in \u001B[0;36mh5py.h5g.create\u001B[1;34m()\u001B[0m\n",
      "\u001B[1;31mValueError\u001B[0m: Unable to create group (name already exists)"
     ]
    }
   ],
   "source": [
    "if SEPARATE_FILES:\n",
    "    try:\n",
    "        h5file = h5py.File('../data/'+ H5_FILENAME + '.h5','r+')\n",
    "    except:\n",
    "        print('File not exist, creating file')\n",
    "        h5file = h5py.File('../data/'+ H5_FILENAME + '.h5','w')\n",
    "\n",
    "    h5group = h5file.create_group(GROUP_NAME)\n",
    "\n",
    "    for idx, file in enumerate(files):\n",
    "        for part_idx, path in enumerate(_get_radar_filenames(GROUP_NAME + '_' + file, RADAR_DIR)):\n",
    "            new_file_path = GROUP_NAME + '_' + file + '_Raw_' + str(part_idx)\n",
    "            data = yield_aggregate_bin_files_new(new_file_path, 3, chunk_length=1, radar_dir=RADAR_DIR)\n",
    "\n",
    "            i = 0\n",
    "            h5dset =  h5group.create_dataset(name=str(file + '_' + str(part_idx)),\n",
    "                                         shape=(1, 3, 4, 512),\n",
    "                                         maxshape=(None,3,4,512),\n",
    "                                         dtype= np.complex128,\n",
    "                                         compression='gzip', shuffle=True)\n",
    "\n",
    "            while True:\n",
    "                try:\n",
    "                    chunk = next(data)\n",
    "                    chunk = _to_analytic(chunk)\n",
    "                except ValueError:\n",
    "                    print('File converted')\n",
    "                    print(f'Chunks number: {i}')\n",
    "                    break\n",
    "\n",
    "                if i != 0:\n",
    "                    h5dset.resize(h5dset.shape[0]+1, axis=0)\n",
    "\n",
    "                h5dset[i,:,:,:] = chunk[0,:,:,:]\n",
    "                i+=1\n",
    "\n",
    "    h5file.close()\n",
    "\n",
    "else:\n",
    "    try:\n",
    "        h5file = h5py.File('../data/'+ H5_FILENAME + '.h5','r+')\n",
    "    except:\n",
    "        print('File not exist, creating file')\n",
    "        h5file = h5py.File('../data/'+ H5_FILENAME + '.h5','w')\n",
    "\n",
    "    h5group = h5file.create_group(GROUP_NAME)\n",
    "\n",
    "    for idx, file in enumerate(files):\n",
    "\n",
    "        i = 0\n",
    "        h5dset =  h5group.create_dataset(name=file,\n",
    "                                     shape=(1, 3, 4, 512),\n",
    "                                     maxshape=(None,3,4,512),\n",
    "                                     dtype= np.complex128,\n",
    "                                     compression='gzip', shuffle=True)\n",
    "\n",
    "\n",
    "        for part_idx, path in enumerate(_get_radar_filenames(GROUP_NAME + '_' + file, RADAR_DIR)):\n",
    "            new_file_path = GROUP_NAME + '_' + file + '_Raw_' + str(part_idx)\n",
    "            data = yield_aggregate_bin_files_new(new_file_path, 3, chunk_length=1, radar_dir=RADAR_DIR)\n",
    "\n",
    "            while True:\n",
    "                try:\n",
    "                    chunk = next(data)\n",
    "                    chunk = _to_analytic(chunk)\n",
    "                except ValueError:\n",
    "                    print('File converted')\n",
    "                    print(f'Chunks number: {i}')\n",
    "                    break\n",
    "\n",
    "                if i != 0:\n",
    "                    h5dset.resize(h5dset.shape[0]+1, axis=0)\n",
    "\n",
    "                h5dset[i,:,:,:] = chunk[0,:,:,:]\n",
    "                i+=1\n",
    "\n",
    "    h5file.close()"
   ],
   "metadata": {
    "collapsed": false,
    "ExecuteTime": {
     "end_time": "2023-05-25T19:23:19.972220800Z",
     "start_time": "2023-05-25T19:23:19.930554700Z"
    }
   }
  },
  {
   "cell_type": "code",
   "execution_count": 5,
   "outputs": [],
   "source": [
    "loaded_file = h5py.File('../data/'+ H5_FILENAME + '.h5','r')\n",
    "frames = loaded_file[GROUP_NAME][files[0]]"
   ],
   "metadata": {
    "collapsed": false,
    "ExecuteTime": {
     "end_time": "2023-05-25T19:21:15.274579900Z",
     "start_time": "2023-05-25T19:21:15.252582200Z"
    }
   }
  },
  {
   "cell_type": "code",
   "execution_count": 6,
   "outputs": [],
   "source": [
    "sample_file = frames[:, 0, 0, :]"
   ],
   "metadata": {
    "collapsed": false,
    "ExecuteTime": {
     "end_time": "2023-05-25T19:21:20.712565600Z",
     "start_time": "2023-05-25T19:21:15.274579900Z"
    }
   }
  },
  {
   "cell_type": "code",
   "execution_count": 7,
   "outputs": [
    {
     "data": {
      "text/plain": "<Figure size 640x480 with 2 Axes>",
      "image/png": "[encoded data removed]"
     },
     "metadata": {},
     "output_type": "display_data"
    }
   ],
   "source": [
    "normal_spect, y = gen_spectogram(sample_file)\n",
    "normal_spect = to_dB(normal_spect)\n",
    "print_spectogram(normal_spect, y, depth_limit=10)"
   ],
   "metadata": {
    "collapsed": false,
    "ExecuteTime": {
     "end_time": "2023-05-25T19:21:24.012693400Z",
     "start_time": "2023-05-25T19:21:20.712565600Z"
    }
   }
  },
  {
   "cell_type": "code",
   "execution_count": 8,
   "outputs": [],
   "source": [
    "loaded_file.close()"
   ],
   "metadata": {
    "collapsed": false,
    "ExecuteTime": {
     "end_time": "2023-05-25T19:22:09.454625700Z",
     "start_time": "2023-05-25T19:22:09.444663900Z"
    }
   }
  },
  {
   "cell_type": "code",
   "execution_count": 5,
   "outputs": [
    {
     "data": {
      "text/plain": "[WindowsPath('E:/radar-project/data/2023_05_08/2023_05_08_rafal_Raw_0.bin'),\n WindowsPath('E:/radar-project/data/2023_05_08/2023_05_08_rafal_Raw_1.bin'),\n WindowsPath('E:/radar-project/data/2023_05_08/2023_05_08_rafal_Raw_2.bin')]"
     },
     "execution_count": 5,
     "metadata": {},
     "output_type": "execute_result"
    }
   ],
   "source": [
    "_get_radar_filenames('2023_05_08_' + files[0], RADAR_DIR)"
   ],
   "metadata": {
    "collapsed": false,
    "ExecuteTime": {
     "end_time": "2023-05-25T18:57:02.697798700Z",
     "start_time": "2023-05-25T18:57:02.688551400Z"
    }
   }
  },
  {
   "cell_type": "code",
   "execution_count": 15,
   "outputs": [
    {
     "data": {
      "text/plain": "WindowsPath('E:/radar-project/data/2023_05_08/2023_05_08_rafal_Raw_0.bin')"
     },
     "execution_count": 15,
     "metadata": {},
     "output_type": "execute_result"
    }
   ],
   "source": [],
   "metadata": {
    "collapsed": false,
    "ExecuteTime": {
     "end_time": "2023-05-25T18:59:26.153807400Z",
     "start_time": "2023-05-25T18:59:26.130821300Z"
    }
   }
  },
  {
   "cell_type": "code",
   "execution_count": 10,
   "outputs": [],
   "source": [],
   "metadata": {
    "collapsed": false,
    "ExecuteTime": {
     "end_time": "2023-05-25T18:58:48.889794200Z",
     "start_time": "2023-05-25T18:58:48.875783800Z"
    }
   }
  },
  {
   "cell_type": "code",
   "execution_count": 17,
   "outputs": [
    {
     "data": {
      "text/plain": "[WindowsPath('E:/radar-project/data/2023_05_08/2023_05_08_rafal_Raw_1.bin')]"
     },
     "execution_count": 17,
     "metadata": {},
     "output_type": "execute_result"
    }
   ],
   "source": [
    "_get_radar_filenames_new('2023_05_08_' + 'rafal'+ '_Raw_' + '1', RADAR_DIR)"
   ],
   "metadata": {
    "collapsed": false,
    "ExecuteTime": {
     "end_time": "2023-05-25T19:00:43.615226900Z",
     "start_time": "2023-05-25T19:00:43.607294600Z"
    }
   }
  },
  {
   "cell_type": "code",
   "execution_count": null,
   "outputs": [],
   "source": [],
   "metadata": {
    "collapsed": false
   }
  }
 ],
 "metadata": {
  "kernelspec": {
   "display_name": "Python 3",
   "language": "python",
   "name": "python3"
  },
  "language_info": {
   "codemirror_mode": {
    "name": "ipython",
    "version": 2
   },
   "file_extension": ".py",
   "mimetype": "text/x-python",
   "name": "python",
   "nbconvert_exporter": "python",
   "pygments_lexer": "ipython2",
   "version": "2.7.6"
  }
 },
 "nbformat": 4,
 "nbformat_minor": 0
}
