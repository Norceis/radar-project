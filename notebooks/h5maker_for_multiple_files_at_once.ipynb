{
 "cells": [
  {
   "cell_type": "code",
   "execution_count": 1,
   "metadata": {
    "collapsed": true,
    "ExecuteTime": {
     "start_time": "2023-04-24T14:52:49.310004Z",
     "end_time": "2023-04-24T14:52:49.623289Z"
    }
   },
   "outputs": [],
   "source": [
    "import h5py\n",
    "import numpy as  np\n",
    "from pathlib import Path\n",
    "\n",
    "from source.preprocessHighFPS import yield_aggregate_bin_files, aggregate_bin_files, _to_analytic, _load_file, _chunk_to_fft, _get_radar_filenames"
   ]
  },
  {
   "cell_type": "code",
   "execution_count": 2,
   "outputs": [],
   "source": [
    "BASE_DIR = Path(\"E:/radar-project\")  # change to your project dir\n",
    "RADAR_DIR = BASE_DIR / \"data/2023_03_21\"  # day dir\n",
    "GROUP_NAME = '2023_03_21' # nazwa grupy (np. dzień pomiaru), de facto to tylko kolejny wymiar\n",
    "H5_FILENAME = 'alive_or_dead'"
   ],
   "metadata": {
    "collapsed": false,
    "ExecuteTime": {
     "start_time": "2023-04-24T14:52:49.623289Z",
     "end_time": "2023-04-24T14:52:49.623289Z"
    }
   }
  },
  {
   "cell_type": "code",
   "execution_count": 3,
   "outputs": [
    {
     "name": "stderr",
     "output_type": "stream",
     "text": [
      "WARNING:root:E:\\radar-project\\data\\2023_03_21\\2023_03_21_wiatrak_4m_Raw_0.bin\n"
     ]
    },
    {
     "name": "stdout",
     "output_type": "stream",
     "text": [
      "File not exist, creating file\n"
     ]
    },
    {
     "name": "stderr",
     "output_type": "stream",
     "text": [
      "WARNING:root:CHUNK EOF @ 0 frame\n",
      "WARNING:root:E:\\radar-project\\data\\2023_03_21\\2023_03_21_wiatrak_2m_bartek_sciana_Raw_0.bin\n"
     ]
    },
    {
     "name": "stdout",
     "output_type": "stream",
     "text": [
      "File converted\n",
      "Chunks number: 13513\n"
     ]
    },
    {
     "name": "stderr",
     "output_type": "stream",
     "text": [
      "WARNING:root:CHUNK EOF @ 0 frame\n",
      "WARNING:root:E:\\radar-project\\data\\2023_03_21\\2023_03_21_randomowe_chodzonko_1os_bartek_Raw_0.bin\n"
     ]
    },
    {
     "name": "stdout",
     "output_type": "stream",
     "text": [
      "File converted\n",
      "Chunks number: 16185\n"
     ]
    },
    {
     "name": "stderr",
     "output_type": "stream",
     "text": [
      "WARNING:root:CHUNK EOF @ 0 frame\n",
      "WARNING:root:E:\\radar-project\\data\\2023_03_21\\2023_03_21_chodzonko_1os_4-1-8m_bartek_Raw_0.bin\n"
     ]
    },
    {
     "name": "stdout",
     "output_type": "stream",
     "text": [
      "File converted\n",
      "Chunks number: 19884\n"
     ]
    },
    {
     "name": "stderr",
     "output_type": "stream",
     "text": [
      "WARNING:root:CHUNK EOF @ 0 frame\n"
     ]
    },
    {
     "name": "stdout",
     "output_type": "stream",
     "text": [
      "File converted\n",
      "Chunks number: 15395\n"
     ]
    }
   ],
   "source": [
    "files = [\n",
    "         # 'background',\n",
    "         # 'wysoki_niski_3m_oskar_bartek_przodem',\n",
    "         'wiatrak_4m',\n",
    "         # 'wiatrak_2m_bartek_sciana',\n",
    "         'wiatrak_2m',\n",
    "         # 'wiatrak_3m',\n",
    "         # 'wiatrak_1m',\n",
    "         # 'randomowe_chodzonko_3os',\n",
    "         'randomowe_chodzonko_1os_bartek',\n",
    "         # 'odleglosc_4m_bartek_bokiem',\n",
    "         # 'odleglosc_4m_bartek_przodem',\n",
    "         # 'odleglosc_3m_bartek_bokiem',\n",
    "         # 'odleglosc_3m_bartek_przodem',\n",
    "         # 'odleglosc_2m_bartek_bokiem',\n",
    "         # 'odleglosc_2m_bartek_przodem',\n",
    "         # 'odleglosc_1m_bartek_bokiem',\n",
    "         # 'odleglosc_1m_bartek_przodem',\n",
    "         # 'chodzonko_2os_2m_oskar_3m_bartek',\n",
    "         # 'chodzonko_2os_2m_bartek_3m_oskar',\n",
    "         'chodzonko_1os_4-1-8m_bartek',\n",
    "         # 'bartek_sciana',\n",
    "         # 'biegunko_1os_2m_rafal',\n",
    "         # 'chodzonko_1os_2m_bartek',\n",
    "         ]\n",
    "\n",
    "try:\n",
    "    h5file = h5py.File('../data/'+ H5_FILENAME + '.h5','r+')\n",
    "except:\n",
    "    print('File not exist, creating file')\n",
    "    h5file = h5py.File('../data/'+ H5_FILENAME + '.h5','w')\n",
    "\n",
    "h5group = h5file.create_group(GROUP_NAME)\n",
    "\n",
    "for idx, file in enumerate(files):\n",
    "    data = yield_aggregate_bin_files('2023_03_21_' + file, 3, chunk_length=1, radar_dir=RADAR_DIR)\n",
    "\n",
    "    h5dset =  h5group.create_dataset(name=file,\n",
    "                                     shape=(1, 3, 4, 512),\n",
    "                                     maxshape=(None,3,4,512),\n",
    "                                     dtype= np.complex128,\n",
    "                                     compression='gzip', shuffle=True)\n",
    "\n",
    "    i = 0\n",
    "    while True:\n",
    "        try:\n",
    "            chunk = next(data)\n",
    "            chunk = _to_analytic(chunk)\n",
    "        except ValueError:\n",
    "            print('File converted')\n",
    "            print(f'Chunks number: {i}')\n",
    "            break\n",
    "\n",
    "        if i != 0:\n",
    "            h5dset.resize(h5dset.shape[0]+1, axis=0)\n",
    "\n",
    "        h5dset[i,:,:,:] = chunk[0,:,:,:]\n",
    "        i+=1\n",
    "\n",
    "h5file.close()"
   ],
   "metadata": {
    "collapsed": false,
    "ExecuteTime": {
     "start_time": "2023-04-24T14:52:49.623289Z",
     "end_time": "2023-04-24T15:05:14.868542Z"
    }
   }
  },
  {
   "cell_type": "code",
   "execution_count": 4,
   "outputs": [],
   "source": [
    "loaded_file = h5py.File('../data/'+ H5_FILENAME + '.h5','r')\n",
    "frames = loaded_file[GROUP_NAME]['wiatrak_4m']"
   ],
   "metadata": {
    "collapsed": false,
    "ExecuteTime": {
     "start_time": "2023-04-24T15:05:14.836278Z",
     "end_time": "2023-04-24T15:05:14.869542Z"
    }
   }
  },
  {
   "cell_type": "code",
   "execution_count": 5,
   "outputs": [
    {
     "data": {
      "text/plain": "array([[[  23.+168.j, -105. +53.j, -121. -17.j, ...,  -24. +19.j,\n          -30. +16.j,  -36.  -6.j],\n        [-175.-101.j,  -48.+103.j,  -92. +84.j, ...,   29. -21.j,\n           38. +25.j,   15. +51.j],\n        [ -96. +91.j,  -94.+129.j, -127.+108.j, ...,    5. -32.j,\n           58. -14.j,   44. +30.j],\n        [-159.+292.j,  171.+163.j,  140.+169.j, ...,  -44. +14.j,\n          -20.  -3.j,    4. -12.j]],\n\n       [[ 127. +45.j,  -47.  -8.j,  -58. -26.j, ...,  -25. -53.j,\n           21. -65.j,   60. -25.j],\n        [-161.+151.j,  129.+145.j,  111.+167.j, ...,  -59.  -5.j,\n          -32. -17.j,   13. -17.j],\n        [  80. +94.j,  -49. +10.j,  -45.  -6.j, ...,  -40. -69.j,\n           31. -80.j,   57. -56.j],\n        [ -79.+147.j,  246. +36.j,  257. +87.j, ...,  -91. -39.j,\n          -45. -72.j,   -2. -86.j]],\n\n       [[ 109.+171.j,  -67. -84.j,  -27.-111.j, ...,  -22. -60.j,\n           32. -55.j,   65. -30.j],\n        [-203. -85.j,   -6. +87.j,  -31. +66.j, ...,  -17. -49.j,\n            7. -41.j,    7. -25.j],\n        [ 132.+204.j,  -13. -67.j,   19. -93.j, ...,  -51. +56.j,\n          -58. +44.j,  -69.  +9.j],\n        [ -38.-191.j, -124. +56.j, -169. +18.j, ...,   -7. +51.j,\n          -37. +37.j,  -60.  -1.j]]])"
     },
     "execution_count": 5,
     "metadata": {},
     "output_type": "execute_result"
    }
   ],
   "source": [
    "frames[0]"
   ],
   "metadata": {
    "collapsed": false,
    "ExecuteTime": {
     "start_time": "2023-04-24T15:05:14.839545Z",
     "end_time": "2023-04-24T15:05:14.869542Z"
    }
   }
  },
  {
   "cell_type": "code",
   "execution_count": 6,
   "outputs": [],
   "source": [
    "loaded_file.close()"
   ],
   "metadata": {
    "collapsed": false,
    "ExecuteTime": {
     "start_time": "2023-04-24T15:05:14.851805Z",
     "end_time": "2023-04-24T15:05:14.869542Z"
    }
   }
  },
  {
   "cell_type": "code",
   "execution_count": null,
   "outputs": [],
   "source": [],
   "metadata": {
    "collapsed": false
   }
  }
 ],
 "metadata": {
  "kernelspec": {
   "display_name": "Python 3",
   "language": "python",
   "name": "python3"
  },
  "language_info": {
   "codemirror_mode": {
    "name": "ipython",
    "version": 2
   },
   "file_extension": ".py",
   "mimetype": "text/x-python",
   "name": "python",
   "nbconvert_exporter": "python",
   "pygments_lexer": "ipython2",
   "version": "2.7.6"
  }
 },
 "nbformat": 4,
 "nbformat_minor": 0
}
