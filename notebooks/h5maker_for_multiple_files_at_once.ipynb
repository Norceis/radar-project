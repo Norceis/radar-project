{
 "cells": [
  {
   "cell_type": "code",
   "execution_count": 1,
   "metadata": {
    "collapsed": true,
    "ExecuteTime": {
     "start_time": "2023-04-24T14:52:49.310004Z",
     "end_time": "2023-04-24T14:52:49.623289Z"
    }
   },
   "outputs": [],
   "source": [
    "import h5py\n",
    "import numpy as  np\n",
    "from pathlib import Path\n",
    "\n",
    "from source.preprocessHighFPS import yield_aggregate_bin_files, aggregate_bin_files, _to_analytic, _load_file, _chunk_to_fft, _get_radar_filenames"
   ]
  },
  {
   "cell_type": "code",
   "execution_count": 2,
   "outputs": [],
   "source": [
    "BASE_DIR = Path(\"D:/Studia/sium/semestr3/radar-project\")  # change to your project dir\n",
    "RADAR_DIR = BASE_DIR / \"data/2023_03_21\"  # day dir\n",
    "GROUP_NAME = '2023_03_21' # nazwa grupy (np. dzień pomiaru), de facto to tylko kolejny wymiar\n",
    "H5_FILENAME = 'alive_or_dead'"
   ],
   "metadata": {
    "collapsed": false,
    "ExecuteTime": {
     "start_time": "2023-04-24T14:52:49.623289Z",
     "end_time": "2023-04-24T14:52:49.623289Z"
    }
   }
  },
  {
   "cell_type": "code",
   "execution_count": 10,
   "outputs": [],
   "source": [],
   "metadata": {
    "collapsed": false,
    "pycharm": {
     "name": "#%%\n"
    }
   }
  },
  {
   "cell_type": "code",
   "execution_count": 3,
   "outputs": [
    {
     "name": "stdout",
     "output_type": "stream",
     "text": [
      "File not exist, creating file\n"
     ]
    },
    {
     "ename": "FileNotFoundError",
     "evalue": "[Errno 2] Unable to create file (unable to open file: name = 'data/test.h5', errno = 2, error message = 'No such file or directory', flags = 13, o_flags = 302)",
     "output_type": "error",
     "traceback": [
      "\u001B[1;31m---------------------------------------------------------------------------\u001B[0m",
      "\u001B[1;31mFileNotFoundError\u001B[0m                         Traceback (most recent call last)",
      "Cell \u001B[1;32mIn[3], line 28\u001B[0m\n\u001B[0;32m     27\u001B[0m \u001B[38;5;28;01mtry\u001B[39;00m:\n\u001B[1;32m---> 28\u001B[0m     h5file \u001B[38;5;241m=\u001B[39m \u001B[43mh5py\u001B[49m\u001B[38;5;241;43m.\u001B[39;49m\u001B[43mFile\u001B[49m\u001B[43m(\u001B[49m\u001B[38;5;124;43m'\u001B[39;49m\u001B[38;5;124;43mdata/\u001B[39;49m\u001B[38;5;124;43m'\u001B[39;49m\u001B[38;5;241;43m+\u001B[39;49m\u001B[43m \u001B[49m\u001B[43mH5_FILENAME\u001B[49m\u001B[43m \u001B[49m\u001B[38;5;241;43m+\u001B[39;49m\u001B[43m \u001B[49m\u001B[38;5;124;43m'\u001B[39;49m\u001B[38;5;124;43m.h5\u001B[39;49m\u001B[38;5;124;43m'\u001B[39;49m\u001B[43m,\u001B[49m\u001B[38;5;124;43m'\u001B[39;49m\u001B[38;5;124;43mr+\u001B[39;49m\u001B[38;5;124;43m'\u001B[39;49m\u001B[43m)\u001B[49m\n\u001B[0;32m     29\u001B[0m \u001B[38;5;28;01mexcept\u001B[39;00m:\n",
      "File \u001B[1;32md:\\studia\\sium\\default_venv\\lib\\site-packages\\h5py\\_hl\\files.py:567\u001B[0m, in \u001B[0;36mFile.__init__\u001B[1;34m(self, name, mode, driver, libver, userblock_size, swmr, rdcc_nslots, rdcc_nbytes, rdcc_w0, track_order, fs_strategy, fs_persist, fs_threshold, fs_page_size, page_buf_size, min_meta_keep, min_raw_keep, locking, alignment_threshold, alignment_interval, meta_block_size, **kwds)\u001B[0m\n\u001B[0;32m    564\u001B[0m     fcpl \u001B[38;5;241m=\u001B[39m make_fcpl(track_order\u001B[38;5;241m=\u001B[39mtrack_order, fs_strategy\u001B[38;5;241m=\u001B[39mfs_strategy,\n\u001B[0;32m    565\u001B[0m                      fs_persist\u001B[38;5;241m=\u001B[39mfs_persist, fs_threshold\u001B[38;5;241m=\u001B[39mfs_threshold,\n\u001B[0;32m    566\u001B[0m                      fs_page_size\u001B[38;5;241m=\u001B[39mfs_page_size)\n\u001B[1;32m--> 567\u001B[0m     fid \u001B[38;5;241m=\u001B[39m \u001B[43mmake_fid\u001B[49m\u001B[43m(\u001B[49m\u001B[43mname\u001B[49m\u001B[43m,\u001B[49m\u001B[43m \u001B[49m\u001B[43mmode\u001B[49m\u001B[43m,\u001B[49m\u001B[43m \u001B[49m\u001B[43muserblock_size\u001B[49m\u001B[43m,\u001B[49m\u001B[43m \u001B[49m\u001B[43mfapl\u001B[49m\u001B[43m,\u001B[49m\u001B[43m \u001B[49m\u001B[43mfcpl\u001B[49m\u001B[43m,\u001B[49m\u001B[43m \u001B[49m\u001B[43mswmr\u001B[49m\u001B[38;5;241;43m=\u001B[39;49m\u001B[43mswmr\u001B[49m\u001B[43m)\u001B[49m\n\u001B[0;32m    569\u001B[0m \u001B[38;5;28;01mif\u001B[39;00m \u001B[38;5;28misinstance\u001B[39m(libver, \u001B[38;5;28mtuple\u001B[39m):\n",
      "File \u001B[1;32md:\\studia\\sium\\default_venv\\lib\\site-packages\\h5py\\_hl\\files.py:233\u001B[0m, in \u001B[0;36mmake_fid\u001B[1;34m(name, mode, userblock_size, fapl, fcpl, swmr)\u001B[0m\n\u001B[0;32m    232\u001B[0m \u001B[38;5;28;01melif\u001B[39;00m mode \u001B[38;5;241m==\u001B[39m \u001B[38;5;124m'\u001B[39m\u001B[38;5;124mr+\u001B[39m\u001B[38;5;124m'\u001B[39m:\n\u001B[1;32m--> 233\u001B[0m     fid \u001B[38;5;241m=\u001B[39m \u001B[43mh5f\u001B[49m\u001B[38;5;241;43m.\u001B[39;49m\u001B[43mopen\u001B[49m\u001B[43m(\u001B[49m\u001B[43mname\u001B[49m\u001B[43m,\u001B[49m\u001B[43m \u001B[49m\u001B[43mh5f\u001B[49m\u001B[38;5;241;43m.\u001B[39;49m\u001B[43mACC_RDWR\u001B[49m\u001B[43m,\u001B[49m\u001B[43m \u001B[49m\u001B[43mfapl\u001B[49m\u001B[38;5;241;43m=\u001B[39;49m\u001B[43mfapl\u001B[49m\u001B[43m)\u001B[49m\n\u001B[0;32m    234\u001B[0m \u001B[38;5;28;01melif\u001B[39;00m mode \u001B[38;5;129;01min\u001B[39;00m [\u001B[38;5;124m'\u001B[39m\u001B[38;5;124mw-\u001B[39m\u001B[38;5;124m'\u001B[39m, \u001B[38;5;124m'\u001B[39m\u001B[38;5;124mx\u001B[39m\u001B[38;5;124m'\u001B[39m]:\n",
      "File \u001B[1;32mh5py\\_objects.pyx:54\u001B[0m, in \u001B[0;36mh5py._objects.with_phil.wrapper\u001B[1;34m()\u001B[0m\n",
      "File \u001B[1;32mh5py\\_objects.pyx:55\u001B[0m, in \u001B[0;36mh5py._objects.with_phil.wrapper\u001B[1;34m()\u001B[0m\n",
      "File \u001B[1;32mh5py\\h5f.pyx:106\u001B[0m, in \u001B[0;36mh5py.h5f.open\u001B[1;34m()\u001B[0m\n",
      "\u001B[1;31mFileNotFoundError\u001B[0m: [Errno 2] Unable to open file (unable to open file: name = 'data/test.h5', errno = 2, error message = 'No such file or directory', flags = 1, o_flags = 2)",
      "\nDuring handling of the above exception, another exception occurred:\n",
      "\u001B[1;31mFileNotFoundError\u001B[0m                         Traceback (most recent call last)",
      "Cell \u001B[1;32mIn[3], line 31\u001B[0m\n\u001B[0;32m     29\u001B[0m \u001B[38;5;28;01mexcept\u001B[39;00m:\n\u001B[0;32m     30\u001B[0m     \u001B[38;5;28mprint\u001B[39m(\u001B[38;5;124m'\u001B[39m\u001B[38;5;124mFile not exist, creating file\u001B[39m\u001B[38;5;124m'\u001B[39m)\n\u001B[1;32m---> 31\u001B[0m     h5file \u001B[38;5;241m=\u001B[39m \u001B[43mh5py\u001B[49m\u001B[38;5;241;43m.\u001B[39;49m\u001B[43mFile\u001B[49m\u001B[43m(\u001B[49m\u001B[38;5;124;43m'\u001B[39;49m\u001B[38;5;124;43mdata/\u001B[39;49m\u001B[38;5;124;43m'\u001B[39;49m\u001B[38;5;241;43m+\u001B[39;49m\u001B[43m \u001B[49m\u001B[43mH5_FILENAME\u001B[49m\u001B[43m \u001B[49m\u001B[38;5;241;43m+\u001B[39;49m\u001B[43m \u001B[49m\u001B[38;5;124;43m'\u001B[39;49m\u001B[38;5;124;43m.h5\u001B[39;49m\u001B[38;5;124;43m'\u001B[39;49m\u001B[43m,\u001B[49m\u001B[38;5;124;43m'\u001B[39;49m\u001B[38;5;124;43mw\u001B[39;49m\u001B[38;5;124;43m'\u001B[39;49m\u001B[43m)\u001B[49m\n\u001B[0;32m     33\u001B[0m h5group \u001B[38;5;241m=\u001B[39m h5file\u001B[38;5;241m.\u001B[39mrequire_group(GROUP_NAME)\n\u001B[0;32m     35\u001B[0m \u001B[38;5;28;01mfor\u001B[39;00m idx, file \u001B[38;5;129;01min\u001B[39;00m \u001B[38;5;28menumerate\u001B[39m(files):\n",
      "File \u001B[1;32md:\\studia\\sium\\default_venv\\lib\\site-packages\\h5py\\_hl\\files.py:567\u001B[0m, in \u001B[0;36mFile.__init__\u001B[1;34m(self, name, mode, driver, libver, userblock_size, swmr, rdcc_nslots, rdcc_nbytes, rdcc_w0, track_order, fs_strategy, fs_persist, fs_threshold, fs_page_size, page_buf_size, min_meta_keep, min_raw_keep, locking, alignment_threshold, alignment_interval, meta_block_size, **kwds)\u001B[0m\n\u001B[0;32m    558\u001B[0m     fapl \u001B[38;5;241m=\u001B[39m make_fapl(driver, libver, rdcc_nslots, rdcc_nbytes, rdcc_w0,\n\u001B[0;32m    559\u001B[0m                      locking, page_buf_size, min_meta_keep, min_raw_keep,\n\u001B[0;32m    560\u001B[0m                      alignment_threshold\u001B[38;5;241m=\u001B[39malignment_threshold,\n\u001B[0;32m    561\u001B[0m                      alignment_interval\u001B[38;5;241m=\u001B[39malignment_interval,\n\u001B[0;32m    562\u001B[0m                      meta_block_size\u001B[38;5;241m=\u001B[39mmeta_block_size,\n\u001B[0;32m    563\u001B[0m                      \u001B[38;5;241m*\u001B[39m\u001B[38;5;241m*\u001B[39mkwds)\n\u001B[0;32m    564\u001B[0m     fcpl \u001B[38;5;241m=\u001B[39m make_fcpl(track_order\u001B[38;5;241m=\u001B[39mtrack_order, fs_strategy\u001B[38;5;241m=\u001B[39mfs_strategy,\n\u001B[0;32m    565\u001B[0m                      fs_persist\u001B[38;5;241m=\u001B[39mfs_persist, fs_threshold\u001B[38;5;241m=\u001B[39mfs_threshold,\n\u001B[0;32m    566\u001B[0m                      fs_page_size\u001B[38;5;241m=\u001B[39mfs_page_size)\n\u001B[1;32m--> 567\u001B[0m     fid \u001B[38;5;241m=\u001B[39m \u001B[43mmake_fid\u001B[49m\u001B[43m(\u001B[49m\u001B[43mname\u001B[49m\u001B[43m,\u001B[49m\u001B[43m \u001B[49m\u001B[43mmode\u001B[49m\u001B[43m,\u001B[49m\u001B[43m \u001B[49m\u001B[43muserblock_size\u001B[49m\u001B[43m,\u001B[49m\u001B[43m \u001B[49m\u001B[43mfapl\u001B[49m\u001B[43m,\u001B[49m\u001B[43m \u001B[49m\u001B[43mfcpl\u001B[49m\u001B[43m,\u001B[49m\u001B[43m \u001B[49m\u001B[43mswmr\u001B[49m\u001B[38;5;241;43m=\u001B[39;49m\u001B[43mswmr\u001B[49m\u001B[43m)\u001B[49m\n\u001B[0;32m    569\u001B[0m \u001B[38;5;28;01mif\u001B[39;00m \u001B[38;5;28misinstance\u001B[39m(libver, \u001B[38;5;28mtuple\u001B[39m):\n\u001B[0;32m    570\u001B[0m     \u001B[38;5;28mself\u001B[39m\u001B[38;5;241m.\u001B[39m_libver \u001B[38;5;241m=\u001B[39m libver\n",
      "File \u001B[1;32md:\\studia\\sium\\default_venv\\lib\\site-packages\\h5py\\_hl\\files.py:237\u001B[0m, in \u001B[0;36mmake_fid\u001B[1;34m(name, mode, userblock_size, fapl, fcpl, swmr)\u001B[0m\n\u001B[0;32m    235\u001B[0m     fid \u001B[38;5;241m=\u001B[39m h5f\u001B[38;5;241m.\u001B[39mcreate(name, h5f\u001B[38;5;241m.\u001B[39mACC_EXCL, fapl\u001B[38;5;241m=\u001B[39mfapl, fcpl\u001B[38;5;241m=\u001B[39mfcpl)\n\u001B[0;32m    236\u001B[0m \u001B[38;5;28;01melif\u001B[39;00m mode \u001B[38;5;241m==\u001B[39m \u001B[38;5;124m'\u001B[39m\u001B[38;5;124mw\u001B[39m\u001B[38;5;124m'\u001B[39m:\n\u001B[1;32m--> 237\u001B[0m     fid \u001B[38;5;241m=\u001B[39m \u001B[43mh5f\u001B[49m\u001B[38;5;241;43m.\u001B[39;49m\u001B[43mcreate\u001B[49m\u001B[43m(\u001B[49m\u001B[43mname\u001B[49m\u001B[43m,\u001B[49m\u001B[43m \u001B[49m\u001B[43mh5f\u001B[49m\u001B[38;5;241;43m.\u001B[39;49m\u001B[43mACC_TRUNC\u001B[49m\u001B[43m,\u001B[49m\u001B[43m \u001B[49m\u001B[43mfapl\u001B[49m\u001B[38;5;241;43m=\u001B[39;49m\u001B[43mfapl\u001B[49m\u001B[43m,\u001B[49m\u001B[43m \u001B[49m\u001B[43mfcpl\u001B[49m\u001B[38;5;241;43m=\u001B[39;49m\u001B[43mfcpl\u001B[49m\u001B[43m)\u001B[49m\n\u001B[0;32m    238\u001B[0m \u001B[38;5;28;01melif\u001B[39;00m mode \u001B[38;5;241m==\u001B[39m \u001B[38;5;124m'\u001B[39m\u001B[38;5;124ma\u001B[39m\u001B[38;5;124m'\u001B[39m:\n\u001B[0;32m    239\u001B[0m     \u001B[38;5;66;03m# Open in append mode (read/write).\u001B[39;00m\n\u001B[0;32m    240\u001B[0m     \u001B[38;5;66;03m# If that fails, create a new file only if it won't clobber an\u001B[39;00m\n\u001B[0;32m    241\u001B[0m     \u001B[38;5;66;03m# existing one (ACC_EXCL)\u001B[39;00m\n\u001B[0;32m    242\u001B[0m     \u001B[38;5;28;01mtry\u001B[39;00m:\n",
      "File \u001B[1;32mh5py\\_objects.pyx:54\u001B[0m, in \u001B[0;36mh5py._objects.with_phil.wrapper\u001B[1;34m()\u001B[0m\n",
      "File \u001B[1;32mh5py\\_objects.pyx:55\u001B[0m, in \u001B[0;36mh5py._objects.with_phil.wrapper\u001B[1;34m()\u001B[0m\n",
      "File \u001B[1;32mh5py\\h5f.pyx:126\u001B[0m, in \u001B[0;36mh5py.h5f.create\u001B[1;34m()\u001B[0m\n",
      "\u001B[1;31mFileNotFoundError\u001B[0m: [Errno 2] Unable to create file (unable to open file: name = 'data/test.h5', errno = 2, error message = 'No such file or directory', flags = 13, o_flags = 302)"
     ]
    }
   ],
   "source": [
    "files = [\n",
    "         'background',\n",
    "         # 'wysoki_niski_3m_oskar_bartek_przodem',\n",
    "         # 'wiatrak_4m',\n",
    "         # 'wiatrak_2m_bartek_sciana',\n",
    "         # 'wiatrak_2m',\n",
    "         # 'wiatrak_3m',\n",
    "         # 'wiatrak_1m',\n",
    "         # 'randomowe_chodzonko_3os',\n",
    "         # 'randomowe_chodzonko_1os_bartek',\n",
    "         # 'odleglosc_4m_bartek_bokiem',\n",
    "         # 'odleglosc_4m_bartek_przodem',\n",
    "         # 'odleglosc_3m_bartek_bokiem',\n",
    "         # 'odleglosc_3m_bartek_przodem',\n",
    "         # 'odleglosc_2m_bartek_bokiem',\n",
    "         # 'odleglosc_2m_bartek_przodem',\n",
    "         # 'odleglosc_1m_bartek_bokiem',\n",
    "         # 'odleglosc_1m_bartek_przodem',\n",
    "         # 'chodzonko_2os_2m_oskar_3m_bartek',\n",
    "         # 'chodzonko_2os_2m_bartek_3m_oskar',\n",
    "         # 'chodzonko_1os_4-1-8m_bartek',\n",
    "         # 'bartek_sciana',\n",
    "         # 'biegunko_1os_2m_rafal',\n",
    "         # 'chodzonko_1os_2m_bartek',\n",
    "         ]\n",
    "\n",
    "try:\n",
    "    h5file = h5py.File('../data/'+ H5_FILENAME + '.h5','r+')\n",
    "except:\n",
    "    print('File not exist, creating file')\n",
    "    h5file = h5py.File('../data/'+ H5_FILENAME + '.h5','w')\n",
    "\n",
    "h5group = h5file.require_group(GROUP_NAME)\n",
    "\n",
    "for idx, file in enumerate(files):\n",
    "    data = yield_aggregate_bin_files('2023_03_21_' + file, 3, chunk_length=1, radar_dir=RADAR_DIR)\n",
    "\n",
    "    h5dset =  h5group.create_dataset(name=file,\n",
    "                                     shape=(1, 3, 4, 512),\n",
    "                                     maxshape=(None,3,4,512),\n",
    "                                     dtype= np.complex128,\n",
    "                                     compression='gzip', shuffle=True)\n",
    "\n",
    "    i = 0\n",
    "    while True:\n",
    "        try:\n",
    "            chunk = next(data)\n",
    "            chunk = _to_analytic(chunk)\n",
    "        except ValueError:\n",
    "            print('File converted')\n",
    "            print(f'Chunks number: {i}')\n",
    "            break\n",
    "\n",
    "        if i != 0:\n",
    "            h5dset.resize(h5dset.shape[0]+1, axis=0)\n",
    "\n",
    "        h5dset[i,:,:,:] = chunk[0,:,:,:]\n",
    "        i+=1\n",
    "\n",
    "h5file.close()"
   ],
   "metadata": {
    "collapsed": false,
    "ExecuteTime": {
     "start_time": "2023-04-24T14:52:49.623289Z",
     "end_time": "2023-04-24T15:05:14.868542Z"
    }
   }
  },
  {
   "cell_type": "code",
   "execution_count": 6,
   "outputs": [],
   "source": [
    "loaded_file = h5py.File('../data/'+ H5_FILENAME + '.h5','r')\n",
    "frames = loaded_file[GROUP_NAME]['wiatrak_4m']"
   ],
   "metadata": {
    "collapsed": false,
    "ExecuteTime": {
     "start_time": "2023-04-24T15:05:14.836278Z",
     "end_time": "2023-04-24T15:05:14.869542Z"
    }
   }
  },
  {
   "cell_type": "code",
   "execution_count": 7,
   "outputs": [
    {
     "data": {
      "text/plain": "array([[[  23.+168.j, -105. +53.j, -121. -17.j, ...,  -24. +19.j,\n          -30. +16.j,  -36.  -6.j],\n        [-175.-101.j,  -48.+103.j,  -92. +84.j, ...,   29. -21.j,\n           38. +25.j,   15. +51.j],\n        [ -96. +91.j,  -94.+129.j, -127.+108.j, ...,    5. -32.j,\n           58. -14.j,   44. +30.j],\n        [-159.+292.j,  171.+163.j,  140.+169.j, ...,  -44. +14.j,\n          -20.  -3.j,    4. -12.j]],\n\n       [[ 127. +45.j,  -47.  -8.j,  -58. -26.j, ...,  -25. -53.j,\n           21. -65.j,   60. -25.j],\n        [-161.+151.j,  129.+145.j,  111.+167.j, ...,  -59.  -5.j,\n          -32. -17.j,   13. -17.j],\n        [  80. +94.j,  -49. +10.j,  -45.  -6.j, ...,  -40. -69.j,\n           31. -80.j,   57. -56.j],\n        [ -79.+147.j,  246. +36.j,  257. +87.j, ...,  -91. -39.j,\n          -45. -72.j,   -2. -86.j]],\n\n       [[ 109.+171.j,  -67. -84.j,  -27.-111.j, ...,  -22. -60.j,\n           32. -55.j,   65. -30.j],\n        [-203. -85.j,   -6. +87.j,  -31. +66.j, ...,  -17. -49.j,\n            7. -41.j,    7. -25.j],\n        [ 132.+204.j,  -13. -67.j,   19. -93.j, ...,  -51. +56.j,\n          -58. +44.j,  -69.  +9.j],\n        [ -38.-191.j, -124. +56.j, -169. +18.j, ...,   -7. +51.j,\n          -37. +37.j,  -60.  -1.j]]])"
     },
     "execution_count": 7,
     "metadata": {},
     "output_type": "execute_result"
    }
   ],
   "source": [
    "frames[0]"
   ],
   "metadata": {
    "collapsed": false,
    "ExecuteTime": {
     "start_time": "2023-04-24T15:05:14.839545Z",
     "end_time": "2023-04-24T15:05:14.869542Z"
    }
   }
  },
  {
   "cell_type": "code",
   "execution_count": 8,
   "outputs": [],
   "source": [
    "loaded_file.close()"
   ],
   "metadata": {
    "collapsed": false,
    "ExecuteTime": {
     "start_time": "2023-04-24T15:05:14.851805Z",
     "end_time": "2023-04-24T15:05:14.869542Z"
    }
   }
  },
  {
   "cell_type": "code",
   "execution_count": 8,
   "outputs": [],
   "source": [
    "h5file.close()"
   ],
   "metadata": {
    "collapsed": false
   }
  },
  {
   "cell_type": "code",
   "execution_count": null,
   "outputs": [],
   "source": [],
   "metadata": {
    "collapsed": false,
    "pycharm": {
     "name": "#%%\n"
    }
   }
  }
 ],
 "metadata": {
  "kernelspec": {
   "display_name": "Python 3",
   "language": "python",
   "name": "python3"
  },
  "language_info": {
   "codemirror_mode": {
    "name": "ipython",
    "version": 2
   },
   "file_extension": ".py",
   "mimetype": "text/x-python",
   "name": "python",
   "nbconvert_exporter": "python",
   "pygments_lexer": "ipython2",
   "version": "2.7.6"
  }
 },
 "nbformat": 4,
 "nbformat_minor": 0
}