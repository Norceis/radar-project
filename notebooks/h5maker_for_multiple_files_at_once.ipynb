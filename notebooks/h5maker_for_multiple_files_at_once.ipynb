{
 "cells": [
  {
   "cell_type": "code",
   "execution_count": 3,
   "metadata": {
    "ExecuteTime": {
     "end_time": "2023-05-25T19:27:57.860511Z",
     "start_time": "2023-05-25T19:27:56.791838500Z"
    },
    "collapsed": true
   },
   "outputs": [],
   "source": [
    "import h5py\n",
    "import numpy as  np\n",
    "from pathlib import Path\n",
    "import sys\n",
    "import tqdm\n",
    "sys.path.append(str(Path.cwd().parent))\n",
    "\n",
    "from source.preprocessHighFPS import yield_aggregate_bin_files, aggregate_bin_files, \\\n",
    "                                        _to_analytic, _load_file, _chunk_to_fft, _get_radar_filenames,  yield_aggregate_bin_files_new\n",
    "from source.helper import *\n"
   ]
  },
  {
   "cell_type": "code",
   "execution_count": 4,
   "metadata": {
    "ExecuteTime": {
     "end_time": "2023-05-25T19:27:57.860511Z",
     "start_time": "2023-05-25T19:27:57.859513700Z"
    },
    "collapsed": false
   },
   "outputs": [],
   "source": [
    "BASE_DIR = Path(\"D:/SIIUM/3 semestr/RADAR/radar-project\")  # change to your project dir\n",
    "RADAR_DIR = BASE_DIR / \"data/2023_05_08\"  # day dir\n",
    "GROUP_NAME = '2023_05_08' # nazwa grupy (np. dzień pomiaru), de facto to tylko kolejny wymiar\n",
    "H5_FILENAME = 'complete_dataset'\n",
    "SEPARATE_FILES = False"
   ]
  },
  {
   "cell_type": "code",
   "execution_count": 5,
   "metadata": {
    "ExecuteTime": {
     "end_time": "2023-05-25T19:10:03.042751Z",
     "start_time": "2023-05-25T19:10:03.038734700Z"
    },
    "collapsed": false
   },
   "outputs": [],
   "source": [
    "files = [\n",
    "        'background',\n",
    "        'rafal',\n",
    "        'bartek',\n",
    "        'oskar',\n",
    "        'kuba',\n",
    "        'oddychacz_3m_o0_s100',\n",
    "        'oddychacz_3m_o30_s100',\n",
    "        'oddychacz_3m_o30_s0',\n",
    "        'oddychacz_2m_o0_s100',\n",
    "        'oddychacz_2m_o30_s100',\n",
    "        'oddychacz_2m_o30_s0',\n",
    "        'oddychacz_4m_o0_s100',\n",
    "        'oddychacz_4m_o30_s0',\n",
    "        'oddychacz_4m_o30_s100',\n",
    "        'wiatrak_4m',\n",
    "        'wiatrak_3m',\n",
    "        'wiatrak_2m',\n",
    "        'wiatrak_foliarz_2m',\n",
    "        'wiatrak_foliarz_3m',\n",
    "        'wiatrak_foliarz_4m',\n",
    "        'randomowe_chodzonko_bartek',\n",
    "        'randomowe_chodzonko_rafal',\n",
    "        'randomowe_chodzonko_kuba',\n",
    "        'randomowe_chodzonko_oskar',\n",
    "        'samochod',\n",
    "         ]"
   ]
  },
  {
   "cell_type": "code",
   "execution_count": 6,
   "metadata": {
    "ExecuteTime": {
     "end_time": "2023-05-25T19:23:19.972220800Z",
     "start_time": "2023-05-25T19:23:19.930554700Z"
    },
    "collapsed": false
   },
   "outputs": [
    {
     "name": "stdout",
     "output_type": "stream",
     "text": [
      "File not exist, creating file\n"
     ]
    },
    {
     "name": "stderr",
     "output_type": "stream",
     "text": [
      "0it [00:00, ?it/s]WARNING:root:D:\\SIIUM\\3 semestr\\RADAR\\radar-project\\data\\2023_05_08\\2023_05_08_background_Raw_0.bin\n",
      "WARNING:root:CHUNK EOF @ 0 frame\n",
      "1it [03:12, 192.41s/it]WARNING:root:D:\\SIIUM\\3 semestr\\RADAR\\radar-project\\data\\2023_05_08\\2023_05_08_rafal_Raw_0.bin\n"
     ]
    },
    {
     "name": "stdout",
     "output_type": "stream",
     "text": [
      "File converted\n",
      "Chunks number: 14060\n"
     ]
    },
    {
     "name": "stderr",
     "output_type": "stream",
     "text": [
      "WARNING:root:CHIRP EOF @ 0ANT 0CH 508 sample\n",
      "WARNING:root:FRAME EOF @ 1 chirp\n",
      "WARNING:root:CHUNK EOF @ 0 frame\n",
      "WARNING:root:D:\\SIIUM\\3 semestr\\RADAR\\radar-project\\data\\2023_05_08\\2023_05_08_rafal_Raw_1.bin\n"
     ]
    },
    {
     "name": "stdout",
     "output_type": "stream",
     "text": [
      "File converted\n",
      "Chunks number: 43690\n"
     ]
    },
    {
     "name": "stderr",
     "output_type": "stream",
     "text": [
      "WARNING:root:CHIRP EOF @ 0ANT 0CH 508 sample\n",
      "WARNING:root:FRAME EOF @ 1 chirp\n",
      "WARNING:root:CHUNK EOF @ 0 frame\n",
      "WARNING:root:D:\\SIIUM\\3 semestr\\RADAR\\radar-project\\data\\2023_05_08\\2023_05_08_rafal_Raw_2.bin\n"
     ]
    },
    {
     "name": "stdout",
     "output_type": "stream",
     "text": [
      "File converted\n",
      "Chunks number: 87380\n"
     ]
    },
    {
     "name": "stderr",
     "output_type": "stream",
     "text": [
      "WARNING:root:CHIRP EOF @ 0ANT 0CH 8 sample\n",
      "WARNING:root:FRAME EOF @ 2 chirp\n",
      "WARNING:root:CHUNK EOF @ 0 frame\n",
      "2it [22:38, 764.95s/it]WARNING:root:D:\\SIIUM\\3 semestr\\RADAR\\radar-project\\data\\2023_05_08\\2023_05_08_bartek_Raw_0.bin\n"
     ]
    },
    {
     "name": "stdout",
     "output_type": "stream",
     "text": [
      "File converted\n",
      "Chunks number: 91091\n"
     ]
    },
    {
     "name": "stderr",
     "output_type": "stream",
     "text": [
      "WARNING:root:CHIRP EOF @ 0ANT 0CH 508 sample\n",
      "WARNING:root:FRAME EOF @ 1 chirp\n",
      "WARNING:root:CHUNK EOF @ 0 frame\n",
      "WARNING:root:D:\\SIIUM\\3 semestr\\RADAR\\radar-project\\data\\2023_05_08\\2023_05_08_bartek_Raw_1.bin\n"
     ]
    },
    {
     "name": "stdout",
     "output_type": "stream",
     "text": [
      "File converted\n",
      "Chunks number: 43690\n"
     ]
    },
    {
     "name": "stderr",
     "output_type": "stream",
     "text": [
      "WARNING:root:CHIRP EOF @ 0ANT 0CH 508 sample\n",
      "WARNING:root:FRAME EOF @ 1 chirp\n",
      "WARNING:root:CHUNK EOF @ 0 frame\n",
      "WARNING:root:D:\\SIIUM\\3 semestr\\RADAR\\radar-project\\data\\2023_05_08\\2023_05_08_bartek_Raw_2.bin\n"
     ]
    },
    {
     "name": "stdout",
     "output_type": "stream",
     "text": [
      "File converted\n",
      "Chunks number: 87380\n"
     ]
    },
    {
     "name": "stderr",
     "output_type": "stream",
     "text": [
      "WARNING:root:CHIRP EOF @ 0ANT 0CH 8 sample\n",
      "WARNING:root:FRAME EOF @ 2 chirp\n",
      "WARNING:root:CHUNK EOF @ 0 frame\n",
      "3it [43:16, 980.98s/it]WARNING:root:D:\\SIIUM\\3 semestr\\RADAR\\radar-project\\data\\2023_05_08\\2023_05_08_oskar_Raw_0.bin\n"
     ]
    },
    {
     "name": "stdout",
     "output_type": "stream",
     "text": [
      "File converted\n",
      "Chunks number: 87988\n"
     ]
    },
    {
     "name": "stderr",
     "output_type": "stream",
     "text": [
      "WARNING:root:CHIRP EOF @ 0ANT 0CH 508 sample\n",
      "WARNING:root:FRAME EOF @ 1 chirp\n",
      "WARNING:root:CHUNK EOF @ 0 frame\n",
      "WARNING:root:D:\\SIIUM\\3 semestr\\RADAR\\radar-project\\data\\2023_05_08\\2023_05_08_oskar_Raw_1.bin\n"
     ]
    },
    {
     "name": "stdout",
     "output_type": "stream",
     "text": [
      "File converted\n",
      "Chunks number: 43690\n"
     ]
    },
    {
     "name": "stderr",
     "output_type": "stream",
     "text": [
      "WARNING:root:CHIRP EOF @ 0ANT 0CH 508 sample\n",
      "WARNING:root:FRAME EOF @ 1 chirp\n",
      "WARNING:root:CHUNK EOF @ 0 frame\n",
      "WARNING:root:D:\\SIIUM\\3 semestr\\RADAR\\radar-project\\data\\2023_05_08\\2023_05_08_oskar_Raw_2.bin\n"
     ]
    },
    {
     "name": "stdout",
     "output_type": "stream",
     "text": [
      "File converted\n",
      "Chunks number: 87380\n"
     ]
    },
    {
     "name": "stderr",
     "output_type": "stream",
     "text": [
      "WARNING:root:CHIRP EOF @ 0ANT 0CH 8 sample\n",
      "WARNING:root:FRAME EOF @ 2 chirp\n",
      "WARNING:root:CHUNK EOF @ 0 frame\n",
      "4it [1:07:02, 1156.71s/it]WARNING:root:D:\\SIIUM\\3 semestr\\RADAR\\radar-project\\data\\2023_05_08\\2023_05_08_kuba_Raw_0.bin\n"
     ]
    },
    {
     "name": "stdout",
     "output_type": "stream",
     "text": [
      "File converted\n",
      "Chunks number: 99891\n"
     ]
    },
    {
     "name": "stderr",
     "output_type": "stream",
     "text": [
      "WARNING:root:CHIRP EOF @ 0ANT 0CH 508 sample\n",
      "WARNING:root:FRAME EOF @ 1 chirp\n",
      "WARNING:root:CHUNK EOF @ 0 frame\n",
      "WARNING:root:D:\\SIIUM\\3 semestr\\RADAR\\radar-project\\data\\2023_05_08\\2023_05_08_kuba_Raw_1.bin\n"
     ]
    },
    {
     "name": "stdout",
     "output_type": "stream",
     "text": [
      "File converted\n",
      "Chunks number: 43690\n"
     ]
    },
    {
     "name": "stderr",
     "output_type": "stream",
     "text": [
      "WARNING:root:CHIRP EOF @ 0ANT 0CH 4 sample\n",
      "WARNING:root:FRAME EOF @ 1 chirp\n",
      "WARNING:root:CHUNK EOF @ 0 frame\n",
      "5it [1:27:01, 1172.00s/it]WARNING:root:D:\\SIIUM\\3 semestr\\RADAR\\radar-project\\data\\2023_05_08\\2023_05_08_oddychacz_3m_o0_s100_Raw_0.bin\n"
     ]
    },
    {
     "name": "stdout",
     "output_type": "stream",
     "text": [
      "File converted\n",
      "Chunks number: 87273\n"
     ]
    },
    {
     "name": "stderr",
     "output_type": "stream",
     "text": [
      "WARNING:root:CHUNK EOF @ 0 frame\n",
      "6it [1:31:04, 856.27s/it] WARNING:root:D:\\SIIUM\\3 semestr\\RADAR\\radar-project\\data\\2023_05_08\\2023_05_08_oddychacz_3m_o30_s100_Raw_0.bin\n"
     ]
    },
    {
     "name": "stdout",
     "output_type": "stream",
     "text": [
      "File converted\n",
      "Chunks number: 15870\n"
     ]
    },
    {
     "name": "stderr",
     "output_type": "stream",
     "text": [
      "WARNING:root:CHUNK EOF @ 0 frame\n",
      "7it [1:34:53, 651.15s/it]WARNING:root:D:\\SIIUM\\3 semestr\\RADAR\\radar-project\\data\\2023_05_08\\2023_05_08_oddychacz_3m_o30_s0_Raw_0.bin\n"
     ]
    },
    {
     "name": "stdout",
     "output_type": "stream",
     "text": [
      "File converted\n",
      "Chunks number: 14943\n"
     ]
    },
    {
     "name": "stderr",
     "output_type": "stream",
     "text": [
      "WARNING:root:CHUNK EOF @ 0 frame\n",
      "8it [1:38:31, 513.15s/it]WARNING:root:D:\\SIIUM\\3 semestr\\RADAR\\radar-project\\data\\2023_05_08\\2023_05_08_oddychacz_2m_o0_s100_Raw_0.bin\n"
     ]
    },
    {
     "name": "stdout",
     "output_type": "stream",
     "text": [
      "File converted\n",
      "Chunks number: 16269\n"
     ]
    },
    {
     "name": "stderr",
     "output_type": "stream",
     "text": [
      "WARNING:root:CHUNK EOF @ 0 frame\n",
      "9it [1:42:04, 419.45s/it]WARNING:root:D:\\SIIUM\\3 semestr\\RADAR\\radar-project\\data\\2023_05_08\\2023_05_08_oddychacz_2m_o30_s100_Raw_0.bin\n"
     ]
    },
    {
     "name": "stdout",
     "output_type": "stream",
     "text": [
      "File converted\n",
      "Chunks number: 16655\n"
     ]
    },
    {
     "name": "stderr",
     "output_type": "stream",
     "text": [
      "WARNING:root:CHUNK EOF @ 0 frame\n",
      "10it [1:46:01, 363.18s/it]WARNING:root:D:\\SIIUM\\3 semestr\\RADAR\\radar-project\\data\\2023_05_08\\2023_05_08_oddychacz_2m_o30_s0_Raw_0.bin\n"
     ]
    },
    {
     "name": "stdout",
     "output_type": "stream",
     "text": [
      "File converted\n",
      "Chunks number: 19259\n"
     ]
    },
    {
     "name": "stderr",
     "output_type": "stream",
     "text": [
      "WARNING:root:CHUNK EOF @ 0 frame\n",
      "11it [1:49:31, 316.22s/it]WARNING:root:D:\\SIIUM\\3 semestr\\RADAR\\radar-project\\data\\2023_05_08\\2023_05_08_oddychacz_4m_o0_s100_Raw_0.bin\n"
     ]
    },
    {
     "name": "stdout",
     "output_type": "stream",
     "text": [
      "File converted\n",
      "Chunks number: 15697\n"
     ]
    },
    {
     "name": "stderr",
     "output_type": "stream",
     "text": [
      "WARNING:root:CHUNK EOF @ 0 frame\n",
      "12it [1:53:10, 286.54s/it]WARNING:root:D:\\SIIUM\\3 semestr\\RADAR\\radar-project\\data\\2023_05_08\\2023_05_08_oddychacz_4m_o30_s0_Raw_0.bin\n"
     ]
    },
    {
     "name": "stdout",
     "output_type": "stream",
     "text": [
      "File converted\n",
      "Chunks number: 16772\n"
     ]
    },
    {
     "name": "stderr",
     "output_type": "stream",
     "text": [
      "WARNING:root:CHUNK EOF @ 0 frame\n",
      "13it [1:58:04, 288.83s/it]WARNING:root:D:\\SIIUM\\3 semestr\\RADAR\\radar-project\\data\\2023_05_08\\2023_05_08_oddychacz_4m_o30_s100_Raw_0.bin\n"
     ]
    },
    {
     "name": "stdout",
     "output_type": "stream",
     "text": [
      "File converted\n",
      "Chunks number: 22374\n"
     ]
    },
    {
     "name": "stderr",
     "output_type": "stream",
     "text": [
      "WARNING:root:CHUNK EOF @ 0 frame\n",
      "14it [2:02:48, 287.37s/it]WARNING:root:D:\\SIIUM\\3 semestr\\RADAR\\radar-project\\data\\2023_05_08\\2023_05_08_wiatrak_4m_Raw_0.bin\n"
     ]
    },
    {
     "name": "stdout",
     "output_type": "stream",
     "text": [
      "File converted\n",
      "Chunks number: 21968\n"
     ]
    },
    {
     "name": "stderr",
     "output_type": "stream",
     "text": [
      "WARNING:root:CHUNK EOF @ 0 frame\n",
      "15it [2:06:25, 266.16s/it]WARNING:root:D:\\SIIUM\\3 semestr\\RADAR\\radar-project\\data\\2023_05_08\\2023_05_08_wiatrak_3m_Raw_0.bin\n"
     ]
    },
    {
     "name": "stdout",
     "output_type": "stream",
     "text": [
      "File converted\n",
      "Chunks number: 16610\n"
     ]
    },
    {
     "name": "stderr",
     "output_type": "stream",
     "text": [
      "WARNING:root:CHUNK EOF @ 0 frame\n",
      "16it [2:09:51, 248.00s/it]WARNING:root:D:\\SIIUM\\3 semestr\\RADAR\\radar-project\\data\\2023_05_08\\2023_05_08_wiatrak_2m_Raw_0.bin\n"
     ]
    },
    {
     "name": "stdout",
     "output_type": "stream",
     "text": [
      "File converted\n",
      "Chunks number: 15652\n"
     ]
    },
    {
     "name": "stderr",
     "output_type": "stream",
     "text": [
      "WARNING:root:CHUNK EOF @ 0 frame\n",
      "17it [2:13:58, 247.93s/it]WARNING:root:D:\\SIIUM\\3 semestr\\RADAR\\radar-project\\data\\2023_05_08\\2023_05_08_wiatrak_foliarz_2m_Raw_0.bin\n"
     ]
    },
    {
     "name": "stdout",
     "output_type": "stream",
     "text": [
      "File converted\n",
      "Chunks number: 17950\n"
     ]
    },
    {
     "name": "stderr",
     "output_type": "stream",
     "text": [
      "WARNING:root:CHUNK EOF @ 0 frame\n",
      "18it [2:18:27, 254.04s/it]WARNING:root:D:\\SIIUM\\3 semestr\\RADAR\\radar-project\\data\\2023_05_08\\2023_05_08_wiatrak_foliarz_3m_Raw_0.bin\n"
     ]
    },
    {
     "name": "stdout",
     "output_type": "stream",
     "text": [
      "File converted\n",
      "Chunks number: 16360\n"
     ]
    },
    {
     "name": "stderr",
     "output_type": "stream",
     "text": [
      "WARNING:root:CHUNK EOF @ 0 frame\n",
      "19it [2:21:51, 239.08s/it]WARNING:root:D:\\SIIUM\\3 semestr\\RADAR\\radar-project\\data\\2023_05_08\\2023_05_08_wiatrak_foliarz_4m_Raw_0.bin\n"
     ]
    },
    {
     "name": "stdout",
     "output_type": "stream",
     "text": [
      "File converted\n",
      "Chunks number: 15948\n"
     ]
    },
    {
     "name": "stderr",
     "output_type": "stream",
     "text": [
      "WARNING:root:CHUNK EOF @ 0 frame\n",
      "20it [2:26:43, 254.87s/it]WARNING:root:D:\\SIIUM\\3 semestr\\RADAR\\radar-project\\data\\2023_05_08\\2023_05_08_randomowe_chodzonko_bartek_Raw_0.bin\n"
     ]
    },
    {
     "name": "stdout",
     "output_type": "stream",
     "text": [
      "File converted\n",
      "Chunks number: 22442\n"
     ]
    },
    {
     "name": "stderr",
     "output_type": "stream",
     "text": [
      "WARNING:root:CHIRP EOF @ 0ANT 0CH 508 sample\n",
      "WARNING:root:FRAME EOF @ 1 chirp\n",
      "WARNING:root:CHUNK EOF @ 0 frame\n",
      "WARNING:root:D:\\SIIUM\\3 semestr\\RADAR\\radar-project\\data\\2023_05_08\\2023_05_08_randomowe_chodzonko_bartek_Raw_1.bin\n"
     ]
    },
    {
     "name": "stdout",
     "output_type": "stream",
     "text": [
      "File converted\n",
      "Chunks number: 43690\n"
     ]
    },
    {
     "name": "stderr",
     "output_type": "stream",
     "text": [
      "WARNING:root:CHIRP EOF @ 0ANT 0CH 4 sample\n",
      "WARNING:root:FRAME EOF @ 1 chirp\n",
      "WARNING:root:CHUNK EOF @ 0 frame\n",
      "21it [2:40:58, 435.21s/it]WARNING:root:D:\\SIIUM\\3 semestr\\RADAR\\radar-project\\data\\2023_05_08\\2023_05_08_randomowe_chodzonko_rafal_Raw_0.bin\n"
     ]
    },
    {
     "name": "stdout",
     "output_type": "stream",
     "text": [
      "File converted\n",
      "Chunks number: 57446\n"
     ]
    },
    {
     "name": "stderr",
     "output_type": "stream",
     "text": [
      "WARNING:root:CHIRP EOF @ 0ANT 0CH 508 sample\n",
      "WARNING:root:FRAME EOF @ 1 chirp\n",
      "WARNING:root:CHUNK EOF @ 0 frame\n",
      "WARNING:root:D:\\SIIUM\\3 semestr\\RADAR\\radar-project\\data\\2023_05_08\\2023_05_08_randomowe_chodzonko_rafal_Raw_1.bin\n"
     ]
    },
    {
     "name": "stdout",
     "output_type": "stream",
     "text": [
      "File converted\n",
      "Chunks number: 43690\n"
     ]
    },
    {
     "name": "stderr",
     "output_type": "stream",
     "text": [
      "WARNING:root:CHIRP EOF @ 0ANT 0CH 4 sample\n",
      "WARNING:root:FRAME EOF @ 1 chirp\n",
      "WARNING:root:CHUNK EOF @ 0 frame\n",
      "22it [2:56:08, 577.53s/it]WARNING:root:D:\\SIIUM\\3 semestr\\RADAR\\radar-project\\data\\2023_05_08\\2023_05_08_randomowe_chodzonko_kuba_Raw_0.bin\n"
     ]
    },
    {
     "name": "stdout",
     "output_type": "stream",
     "text": [
      "File converted\n",
      "Chunks number: 60351\n"
     ]
    },
    {
     "name": "stderr",
     "output_type": "stream",
     "text": [
      "WARNING:root:CHIRP EOF @ 0ANT 0CH 508 sample\n",
      "WARNING:root:FRAME EOF @ 1 chirp\n",
      "WARNING:root:CHUNK EOF @ 0 frame\n",
      "WARNING:root:D:\\SIIUM\\3 semestr\\RADAR\\radar-project\\data\\2023_05_08\\2023_05_08_randomowe_chodzonko_kuba_Raw_1.bin\n"
     ]
    },
    {
     "name": "stdout",
     "output_type": "stream",
     "text": [
      "File converted\n",
      "Chunks number: 43690\n"
     ]
    },
    {
     "name": "stderr",
     "output_type": "stream",
     "text": [
      "WARNING:root:CHIRP EOF @ 0ANT 0CH 4 sample\n",
      "WARNING:root:FRAME EOF @ 1 chirp\n",
      "WARNING:root:CHUNK EOF @ 0 frame\n",
      "23it [3:10:37, 665.04s/it]WARNING:root:D:\\SIIUM\\3 semestr\\RADAR\\radar-project\\data\\2023_05_08\\2023_05_08_randomowe_chodzonko_oskar_Raw_0.bin\n"
     ]
    },
    {
     "name": "stdout",
     "output_type": "stream",
     "text": [
      "File converted\n",
      "Chunks number: 62301\n"
     ]
    },
    {
     "name": "stderr",
     "output_type": "stream",
     "text": [
      "WARNING:root:CHIRP EOF @ 0ANT 0CH 508 sample\n",
      "WARNING:root:FRAME EOF @ 1 chirp\n",
      "WARNING:root:CHUNK EOF @ 0 frame\n",
      "WARNING:root:D:\\SIIUM\\3 semestr\\RADAR\\radar-project\\data\\2023_05_08\\2023_05_08_randomowe_chodzonko_oskar_Raw_1.bin\n"
     ]
    },
    {
     "name": "stdout",
     "output_type": "stream",
     "text": [
      "File converted\n",
      "Chunks number: 43690\n"
     ]
    },
    {
     "name": "stderr",
     "output_type": "stream",
     "text": [
      "WARNING:root:CHIRP EOF @ 0ANT 0CH 4 sample\n",
      "WARNING:root:FRAME EOF @ 1 chirp\n",
      "WARNING:root:CHUNK EOF @ 0 frame\n",
      "24it [3:24:54, 722.65s/it]WARNING:root:D:\\SIIUM\\3 semestr\\RADAR\\radar-project\\data\\2023_05_08\\2023_05_08_samochod_Raw_0.bin\n"
     ]
    },
    {
     "name": "stdout",
     "output_type": "stream",
     "text": [
      "File converted\n",
      "Chunks number: 61749\n"
     ]
    },
    {
     "name": "stderr",
     "output_type": "stream",
     "text": [
      "WARNING:root:CHUNK EOF @ 0 frame\n",
      "25it [3:31:19, 507.19s/it]"
     ]
    },
    {
     "name": "stdout",
     "output_type": "stream",
     "text": [
      "File converted\n",
      "Chunks number: 28354\n"
     ]
    },
    {
     "name": "stderr",
     "output_type": "stream",
     "text": [
      "\n"
     ]
    }
   ],
   "source": [
    "if SEPARATE_FILES:\n",
    "    try:\n",
    "        h5file = h5py.File('../data/'+ H5_FILENAME + '.h5','r+')\n",
    "    except:\n",
    "        print('File not exist, creating file')\n",
    "        h5file = h5py.File('../data/'+ H5_FILENAME + '.h5','w')\n",
    "\n",
    "    h5group = h5file.create_group(GROUP_NAME)\n",
    "\n",
    "    for idx, file in tqdm.tqdm(enumerate(files)):\n",
    "        for part_idx, path in enumerate(_get_radar_filenames(GROUP_NAME + '_' + file, RADAR_DIR)):\n",
    "            new_file_path = GROUP_NAME + '_' + file + '_Raw_' + str(part_idx)\n",
    "            data = yield_aggregate_bin_files_new(new_file_path, 3, chunk_length=1, radar_dir=RADAR_DIR)\n",
    "\n",
    "            i = 0\n",
    "            h5dset =  h5group.create_dataset(name=str(file + '_' + str(part_idx)),\n",
    "                                         shape=(1, 3, 4, 512),\n",
    "                                         maxshape=(None,3,4,512),\n",
    "                                         dtype= np.complex128,\n",
    "                                         compression='gzip', shuffle=True)\n",
    "\n",
    "            while True:\n",
    "                try:\n",
    "                    chunk = next(data)\n",
    "                    chunk = _to_analytic(chunk)\n",
    "                except ValueError:\n",
    "                    print('File converted')\n",
    "                    print(f'Chunks number: {i}')\n",
    "                    break\n",
    "\n",
    "                if i != 0:\n",
    "                    h5dset.resize(h5dset.shape[0]+1, axis=0)\n",
    "\n",
    "                h5dset[i,:,:,:] = chunk[0,:,:,:]\n",
    "                i+=1\n",
    "\n",
    "    h5file.close()\n",
    "\n",
    "else:\n",
    "    try:\n",
    "        h5file = h5py.File('../data/'+ H5_FILENAME + '.h5','r+')\n",
    "    except:\n",
    "        print('File not exist, creating file')\n",
    "        h5file = h5py.File('../data/'+ H5_FILENAME + '.h5','w')\n",
    "\n",
    "    h5group = h5file.create_group(GROUP_NAME)\n",
    "\n",
    "    for idx, file in tqdm.tqdm(enumerate(files)):\n",
    "\n",
    "        i = 0\n",
    "        h5dset =  h5group.create_dataset(name=file,\n",
    "                                     shape=(1, 3, 4, 512),\n",
    "                                     maxshape=(None,3,4,512),\n",
    "                                     dtype= np.complex128,\n",
    "                                     compression='gzip', shuffle=True)\n",
    "\n",
    "\n",
    "        for part_idx, path in enumerate(_get_radar_filenames(GROUP_NAME + '_' + file, RADAR_DIR)):\n",
    "            new_file_path = GROUP_NAME + '_' + file + '_Raw_' + str(part_idx)\n",
    "            data = yield_aggregate_bin_files_new(new_file_path, 3, chunk_length=1, radar_dir=RADAR_DIR)\n",
    "\n",
    "            while True:\n",
    "                try:\n",
    "                    chunk = next(data)\n",
    "                    chunk = _to_analytic(chunk)\n",
    "                except ValueError:\n",
    "                    print('File converted')\n",
    "                    print(f'Chunks number: {i}')\n",
    "                    break\n",
    "\n",
    "                if i != 0:\n",
    "                    h5dset.resize(h5dset.shape[0]+1, axis=0)\n",
    "\n",
    "                h5dset[i,:,:,:] = chunk[0,:,:,:]\n",
    "                i+=1\n",
    "\n",
    "    h5file.close()"
   ]
  },
  {
   "cell_type": "code",
   "execution_count": 8,
   "metadata": {
    "ExecuteTime": {
     "end_time": "2023-05-25T19:21:15.274579900Z",
     "start_time": "2023-05-25T19:21:15.252582200Z"
    },
    "collapsed": false
   },
   "outputs": [],
   "source": [
    "loaded_file = h5py.File('../data/'+ H5_FILENAME + '.h5','r')\n",
    "frames = loaded_file[GROUP_NAME][files[0]]"
   ]
  },
  {
   "cell_type": "code",
   "execution_count": 9,
   "metadata": {},
   "outputs": [
    {
     "data": {
      "text/plain": [
       "<HDF5 group \"/2023_05_08\" (25 members)>"
      ]
     },
     "execution_count": 9,
     "metadata": {},
     "output_type": "execute_result"
    }
   ],
   "source": [
    "loaded_file['2023_05_08']"
   ]
  },
  {
   "cell_type": "code",
   "execution_count": 10,
   "metadata": {
    "ExecuteTime": {
     "end_time": "2023-05-25T19:21:20.712565600Z",
     "start_time": "2023-05-25T19:21:15.274579900Z"
    },
    "collapsed": false
   },
   "outputs": [],
   "source": [
    "sample_file = frames[:, 0, 0, :]"
   ]
  },
  {
   "cell_type": "code",
   "execution_count": 11,
   "metadata": {
    "ExecuteTime": {
     "end_time": "2023-05-25T19:21:24.012693400Z",
     "start_time": "2023-05-25T19:21:20.712565600Z"
    },
    "collapsed": false
   },
   "outputs": [
    {
     "data": {
      "image/png": "[encoded data removed]",
      "text/plain": [
       "<Figure size 640x480 with 2 Axes>"
      ]
     },
     "metadata": {},
     "output_type": "display_data"
    }
   ],
   "source": [
    "normal_spect, y = gen_spectogram(sample_file)\n",
    "normal_spect = to_dB(normal_spect)\n",
    "print_spectogram(normal_spect, y, depth_limit=10)"
   ]
  },
  {
   "cell_type": "code",
   "execution_count": null,
   "metadata": {
    "ExecuteTime": {
     "end_time": "2023-05-25T19:22:09.454625700Z",
     "start_time": "2023-05-25T19:22:09.444663900Z"
    },
    "collapsed": false
   },
   "outputs": [],
   "source": [
    "loaded_file.close()"
   ]
  },
  {
   "cell_type": "code",
   "execution_count": null,
   "metadata": {
    "ExecuteTime": {
     "end_time": "2023-05-25T18:57:02.697798700Z",
     "start_time": "2023-05-25T18:57:02.688551400Z"
    },
    "collapsed": false
   },
   "outputs": [
    {
     "data": {
      "text/plain": [
       "[WindowsPath('E:/radar-project/data/2023_05_08/2023_05_08_rafal_Raw_0.bin'),\n",
       " WindowsPath('E:/radar-project/data/2023_05_08/2023_05_08_rafal_Raw_1.bin'),\n",
       " WindowsPath('E:/radar-project/data/2023_05_08/2023_05_08_rafal_Raw_2.bin')]"
      ]
     },
     "execution_count": 5,
     "metadata": {},
     "output_type": "execute_result"
    }
   ],
   "source": [
    "_get_radar_filenames('2023_05_08_' + files[0], RADAR_DIR)"
   ]
  },
  {
   "cell_type": "code",
   "execution_count": 15,
   "metadata": {
    "ExecuteTime": {
     "end_time": "2023-05-25T18:59:26.153807400Z",
     "start_time": "2023-05-25T18:59:26.130821300Z"
    },
    "collapsed": false
   },
   "outputs": [
    {
     "data": {
      "text/plain": [
       "WindowsPath('E:/radar-project/data/2023_05_08/2023_05_08_rafal_Raw_0.bin')"
      ]
     },
     "execution_count": 15,
     "metadata": {},
     "output_type": "execute_result"
    }
   ],
   "source": []
  },
  {
   "cell_type": "code",
   "execution_count": 10,
   "metadata": {
    "ExecuteTime": {
     "end_time": "2023-05-25T18:58:48.889794200Z",
     "start_time": "2023-05-25T18:58:48.875783800Z"
    },
    "collapsed": false
   },
   "outputs": [],
   "source": []
  },
  {
   "cell_type": "code",
   "execution_count": 17,
   "metadata": {
    "ExecuteTime": {
     "end_time": "2023-05-25T19:00:43.615226900Z",
     "start_time": "2023-05-25T19:00:43.607294600Z"
    },
    "collapsed": false
   },
   "outputs": [
    {
     "data": {
      "text/plain": [
       "[WindowsPath('E:/radar-project/data/2023_05_08/2023_05_08_rafal_Raw_1.bin')]"
      ]
     },
     "execution_count": 17,
     "metadata": {},
     "output_type": "execute_result"
    }
   ],
   "source": [
    "_get_radar_filenames_new('2023_05_08_' + 'rafal'+ '_Raw_' + '1', RADAR_DIR)"
   ]
  },
  {
   "cell_type": "code",
   "execution_count": null,
   "metadata": {
    "collapsed": false
   },
   "outputs": [],
   "source": []
  }
 ],
 "metadata": {
  "kernelspec": {
   "display_name": "Python 3",
   "language": "python",
   "name": "python3"
  },
  "language_info": {
   "codemirror_mode": {
    "name": "ipython",
    "version": 3
   },
   "file_extension": ".py",
   "mimetype": "text/x-python",
   "name": "python",
   "nbconvert_exporter": "python",
   "pygments_lexer": "ipython3",
   "version": "3.9.12"
  }
 },
 "nbformat": 4,
 "nbformat_minor": 0
}
