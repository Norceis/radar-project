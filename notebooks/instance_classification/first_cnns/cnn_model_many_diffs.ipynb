{
  "cells": [
    {
      "attachments": {},
      "cell_type": "markdown",
      "metadata": {
        "colab_type": "text",
        "id": "view-in-github"
      },
      "source": [
        "<a href=\"https://colab.research.google.com/github/Norceis/radar-project/blob/main/radar.ipynb\" target=\"_parent\"><img src=\"https://colab.research.google.com/assets/colab-badge.svg\" alt=\"Open In Colab\"/></a>"
      ]
    },
    {
      "cell_type": "code",
      "execution_count": 1,
      "metadata": {
        "colab": {
          "base_uri": "https://localhost:8080/"
        },
        "id": "jOJbhl_xg4fz",
        "outputId": "fd98b575-465a-4dd1-9f4f-2321fed91e68"
      },
      "outputs": [],
      "source": [
        "import numpy as np\n",
        "import pickle\n",
        "\n",
        "import tensorflow as tf\n",
        "from tensorflow import keras\n",
        "from tensorflow.keras.layers import Input, Dense, Reshape, Flatten, concatenate, Activation, Concatenate, Conv2DTranspose, Conv2D, Dropout, MaxPooling2D\n",
        "from tensorflow.keras.layers import BatchNormalization\n",
        "from tensorflow.keras.layers import LeakyReLU\n",
        "from tensorflow.keras.models import Sequential, Model\n",
        "from tensorflow.keras.optimizers import Adam\n",
        "from tensorflow.keras.utils import to_categorical\n",
        "# from google.colab import drive\n",
        "\n",
        "from sklearn.model_selection import train_test_split\n",
        "\n",
        "# drive.mount('/content/drive')"
      ]
    },
    {
      "cell_type": "code",
      "execution_count": 4,
      "metadata": {
        "colab": {
          "base_uri": "https://localhost:8080/"
        },
        "id": "in61-1M_hMpz",
        "outputId": "041f87f4-704b-4a76-b1e6-6bf388dcf5ec"
      },
      "outputs": [
        {
          "name": "stdout",
          "output_type": "stream",
          "text": [
            "(8413, 54, 216, 4) (8413, 6)\n"
          ]
        }
      ],
      "source": [
        "with open('data_slices_mulitchannel.pickle', 'rb') as f:\n",
        "    x, y = pickle.load(f)\n",
        "\n",
        "\n",
        "classes = ['NOISE',\n",
        "            'KUBA',\n",
        "            'OSKAR',\n",
        "            'RAFAL',\n",
        "            'FAKE',\n",
        "            'BARTEK']\n",
        "\n",
        "y = to_categorical(y, num_classes=len(classes))\n",
        "print(x.shape, y.shape)\n",
        "\n",
        "img_shape = x[0].shape\n",
        "\n",
        "x_train, x_test, y_train, y_test = train_test_split(x, y, test_size=0.2)"
      ]
    },
    {
      "cell_type": "code",
      "execution_count": 5,
      "metadata": {
        "colab": {
          "base_uri": "https://localhost:8080/"
        },
        "id": "9O7pPpZpiAZq",
        "outputId": "fe2cdda2-7171-45a6-f42e-18ec290d4f8f"
      },
      "outputs": [
        {
          "name": "stdout",
          "output_type": "stream",
          "text": [
            "Model: \"sequential\"\n",
            "_________________________________________________________________\n",
            " Layer (type)                Output Shape              Param #   \n",
            "=================================================================\n",
            " conv2d (Conv2D)             (None, 54, 216, 16)       592       \n",
            "                                                                 \n",
            " max_pooling2d (MaxPooling2D  (None, 27, 108, 16)      0         \n",
            " )                                                               \n",
            "                                                                 \n",
            " leaky_re_lu (LeakyReLU)     (None, 27, 108, 16)       0         \n",
            "                                                                 \n",
            " dropout (Dropout)           (None, 27, 108, 16)       0         \n",
            "                                                                 \n",
            " conv2d_1 (Conv2D)           (None, 14, 54, 32)        4640      \n",
            "                                                                 \n",
            " max_pooling2d_1 (MaxPooling  (None, 7, 27, 32)        0         \n",
            " 2D)                                                             \n",
            "                                                                 \n",
            " leaky_re_lu_1 (LeakyReLU)   (None, 7, 27, 32)         0         \n",
            "                                                                 \n",
            " dropout_1 (Dropout)         (None, 7, 27, 32)         0         \n",
            "                                                                 \n",
            " conv2d_2 (Conv2D)           (None, 4, 14, 64)         18496     \n",
            "                                                                 \n",
            " max_pooling2d_2 (MaxPooling  (None, 2, 7, 64)         0         \n",
            " 2D)                                                             \n",
            "                                                                 \n",
            " leaky_re_lu_2 (LeakyReLU)   (None, 2, 7, 64)          0         \n",
            "                                                                 \n",
            " dropout_2 (Dropout)         (None, 2, 7, 64)          0         \n",
            "                                                                 \n",
            " flatten (Flatten)           (None, 896)               0         \n",
            "                                                                 \n",
            " dense (Dense)               (None, 512)               459264    \n",
            "                                                                 \n",
            " leaky_re_lu_3 (LeakyReLU)   (None, 512)               0         \n",
            "                                                                 \n",
            " dropout_3 (Dropout)         (None, 512)               0         \n",
            "                                                                 \n",
            " dense_1 (Dense)             (None, 6)                 3078      \n",
            "                                                                 \n",
            "=================================================================\n",
            "Total params: 486,070\n",
            "Trainable params: 486,070\n",
            "Non-trainable params: 0\n",
            "_________________________________________________________________\n"
          ]
        }
      ],
      "source": [
        "model = Sequential()\n",
        "\n",
        "model.add(Conv2D(16, (3,3), padding='same', input_shape=img_shape))\n",
        "model.add(MaxPooling2D())\n",
        "model.add(LeakyReLU())\n",
        "model.add(Dropout(0.3))\n",
        "\n",
        "model.add(Conv2D(32, (3,3), strides=(2, 2), padding='same'))\n",
        "model.add(MaxPooling2D())\n",
        "model.add(LeakyReLU())\n",
        "model.add(Dropout(0.3))\n",
        "\n",
        "model.add(Conv2D(64, (3,3), strides=(2, 2), padding='same'))\n",
        "model.add(MaxPooling2D())\n",
        "model.add(LeakyReLU())\n",
        "model.add(Dropout(0.3))\n",
        "\n",
        "model.add(Flatten())\n",
        "model.add(Dense(512))\n",
        "model.add(LeakyReLU())\n",
        "model.add(Dropout(0.3))\n",
        "model.add(Dense(len(classes), activation='softmax'))\n",
        "model.summary()\n",
        "\n",
        "slice = Input(shape=img_shape)\n",
        "pred = model(slice)\n",
        "radar_model = Model(slice, pred)\n",
        "\n",
        "\n",
        "METRICS = [\n",
        "      keras.metrics.BinaryAccuracy(name='accuracy')\n",
        "]\n",
        "\n",
        "\n",
        "# optimizer = Adam(0.0002, 0.5)\n",
        "radar_model.compile(loss='categorical_crossentropy',\n",
        "                          optimizer='Adam',\n",
        "                        metrics=METRICS)"
      ]
    },
    {
      "cell_type": "code",
      "execution_count": 6,
      "metadata": {
        "colab": {
          "base_uri": "https://localhost:8080/"
        },
        "id": "ZFmGuLGxjbK1",
        "outputId": "d7f34a70-2ac8-460e-da09-85b6771bcf19"
      },
      "outputs": [
        {
          "name": "stdout",
          "output_type": "stream",
          "text": [
            "Epoch 1/20\n",
            "211/211 [==============================] - 18s 68ms/step - loss: 1.3800 - accuracy: 0.8576\n",
            "Epoch 2/20\n",
            "211/211 [==============================] - 15s 70ms/step - loss: 1.0872 - accuracy: 0.8765\n",
            "Epoch 3/20\n",
            "211/211 [==============================] - 15s 71ms/step - loss: 1.0139 - accuracy: 0.8812\n",
            "Epoch 4/20\n",
            "211/211 [==============================] - 15s 71ms/step - loss: 0.9463 - accuracy: 0.8875\n",
            "Epoch 5/20\n",
            "211/211 [==============================] - 15s 71ms/step - loss: 0.9095 - accuracy: 0.8899\n",
            "Epoch 6/20\n",
            "211/211 [==============================] - 15s 73ms/step - loss: 0.8734 - accuracy: 0.8923\n",
            "Epoch 7/20\n",
            "211/211 [==============================] - 15s 72ms/step - loss: 0.8552 - accuracy: 0.8962\n",
            "Epoch 8/20\n",
            "211/211 [==============================] - 15s 72ms/step - loss: 0.8324 - accuracy: 0.8958\n",
            "Epoch 9/20\n",
            "211/211 [==============================] - 15s 72ms/step - loss: 0.8058 - accuracy: 0.8990\n",
            "Epoch 10/20\n",
            "211/211 [==============================] - 15s 73ms/step - loss: 0.7755 - accuracy: 0.9025\n",
            "Epoch 11/20\n",
            "211/211 [==============================] - 15s 73ms/step - loss: 0.7616 - accuracy: 0.9040\n",
            "Epoch 12/20\n",
            "211/211 [==============================] - 15s 73ms/step - loss: 0.7422 - accuracy: 0.9060\n",
            "Epoch 13/20\n",
            "211/211 [==============================] - 15s 73ms/step - loss: 0.7253 - accuracy: 0.9092\n",
            "Epoch 14/20\n",
            "211/211 [==============================] - 15s 73ms/step - loss: 0.7171 - accuracy: 0.9107\n",
            "Epoch 15/20\n",
            "211/211 [==============================] - 16s 74ms/step - loss: 0.6917 - accuracy: 0.9123\n",
            "Epoch 16/20\n",
            "211/211 [==============================] - 16s 74ms/step - loss: 0.6969 - accuracy: 0.9110\n",
            "Epoch 17/20\n",
            "211/211 [==============================] - 15s 73ms/step - loss: 0.6883 - accuracy: 0.9134\n",
            "Epoch 18/20\n",
            "211/211 [==============================] - 15s 73ms/step - loss: 0.6561 - accuracy: 0.9168\n",
            "Epoch 19/20\n",
            "211/211 [==============================] - 21s 100ms/step - loss: 0.6525 - accuracy: 0.9167\n",
            "Epoch 20/20\n",
            "211/211 [==============================] - 18s 87ms/step - loss: 0.6346 - accuracy: 0.9200\n"
          ]
        },
        {
          "data": {
            "text/plain": [
              "<keras.callbacks.History at 0x2160938abc0>"
            ]
          },
          "execution_count": 6,
          "metadata": {},
          "output_type": "execute_result"
        }
      ],
      "source": [
        "radar_model.fit(x_train, y_train, batch_size=32, epochs=20)"
      ]
    },
    {
      "cell_type": "code",
      "execution_count": 7,
      "metadata": {
        "colab": {
          "base_uri": "https://localhost:8080/"
        },
        "id": "bKiKXzoumiEs",
        "outputId": "9e2dc026-3305-4810-ddf5-c81e741451e5"
      },
      "outputs": [
        {
          "name": "stdout",
          "output_type": "stream",
          "text": [
            "53/53 [==============================] - 2s 19ms/step - loss: 0.8080 - accuracy: 0.8970\n"
          ]
        },
        {
          "data": {
            "text/plain": [
              "[0.8079931139945984, 0.8970093131065369]"
            ]
          },
          "execution_count": 7,
          "metadata": {},
          "output_type": "execute_result"
        }
      ],
      "source": [
        "radar_model.evaluate(x_test, y_test)\n"
      ]
    },
    {
      "cell_type": "code",
      "execution_count": 8,
      "metadata": {
        "colab": {
          "base_uri": "https://localhost:8080/"
        },
        "id": "b_JSjZ2xv74u",
        "outputId": "94ec4775-3f32-461f-9320-bda4860e4e59"
      },
      "outputs": [
        {
          "data": {
            "text/plain": [
              "(array([0., 1.], dtype=float32), array([42065,  8413], dtype=int64))"
            ]
          },
          "execution_count": 8,
          "metadata": {},
          "output_type": "execute_result"
        }
      ],
      "source": [
        "np.unique(y, return_counts=True)"
      ]
    },
    {
      "cell_type": "code",
      "execution_count": 14,
      "metadata": {},
      "outputs": [
        {
          "name": "stdout",
          "output_type": "stream",
          "text": [
            "53/53 [==============================] - 1s 18ms/step\n"
          ]
        },
        {
          "data": {
            "image/png": "[encoded data removed]",
            "text/plain": [
              "<Figure size 1000x1000 with 2 Axes>"
            ]
          },
          "metadata": {},
          "output_type": "display_data"
        }
      ],
      "source": [
        "# plot confusion matrix\n",
        "from sklearn.metrics import confusion_matrix\n",
        "import seaborn as sns\n",
        "import matplotlib.pyplot as plt\n",
        "\n",
        "y_pred = radar_model.predict(x_test)\n",
        "y_pred = np.argmax(y_pred, axis=1)\n",
        "y_true = np.argmax(y_test, axis=1)\n",
        "\n",
        "cm = confusion_matrix(y_true, y_pred)\n",
        "cm = cm.astype('float') / cm.sum(axis=1)[:, np.newaxis]\n",
        "\n",
        "fig, ax = plt.subplots(figsize=(10,10))\n",
        "sns.heatmap(cm, annot=True, ax=ax, cmap='Blues')\n",
        "ax.set_xlabel('Predicted labels')\n",
        "ax.set_ylabel('True labels')\n",
        "ax.set_title('Confusion Matrix')\n",
        "ax.xaxis.set_ticklabels(classes)\n",
        "ax.yaxis.set_ticklabels(classes)\n",
        "plt.show()"
      ]
    },
    {
      "cell_type": "code",
      "execution_count": null,
      "metadata": {},
      "outputs": [],
      "source": []
    }
  ],
  "metadata": {
    "accelerator": "GPU",
    "colab": {
      "authorship_tag": "ABX9TyNlCZydZBsZ0Iy1rp7gyURp",
      "gpuType": "T4",
      "include_colab_link": true,
      "provenance": []
    },
    "gpuClass": "standard",
    "kernelspec": {
      "display_name": "Python 3",
      "name": "python3"
    },
    "language_info": {
      "codemirror_mode": {
        "name": "ipython",
        "version": 3
      },
      "file_extension": ".py",
      "mimetype": "text/x-python",
      "name": "python",
      "nbconvert_exporter": "python",
      "pygments_lexer": "ipython3",
      "version": "3.10.6"
    }
  },
  "nbformat": 4,
  "nbformat_minor": 0
}
