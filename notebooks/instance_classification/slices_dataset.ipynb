{
 "cells": [
  {
   "cell_type": "code",
   "execution_count": 1,
   "metadata": {},
   "outputs": [],
   "source": [
    "from enum import Enum\n",
    "from pathlib import Path\n",
    "import numpy as np\n",
    "import h5py\n",
    "import sys \n",
    "sys.path.append('../../')\n",
    "\n",
    "from source.helper import to_dB, print_spectogram, gen_spectogram, diff_frames, \\\n",
    "                          get_argmaxed_spectrogram, get_tresholded_spectogram,  \\\n",
    "                          get_spectrogram_metrics, plot_metrics, get_spectogram_slices\n",
    "\n",
    "\n",
    "class SampleType(Enum):\n",
    "    BARTEK = 0\n",
    "    KUBA = 1\n",
    "    OSKAR = 2\n",
    "    RAFAL = 3\n",
    "    FAKE = 4\n",
    "    NOISE = 5\n"
   ]
  },
  {
   "cell_type": "code",
   "execution_count": 2,
   "metadata": {},
   "outputs": [],
   "source": [
    "BASE_DIR = Path(\"D:/SIIUM/3 semestr/RADAR/radar-project/data\")  # change to your project dir\n",
    "\n",
    "loaded_file = h5py.File(BASE_DIR / 'complete_dataset.h5', 'r') # best to make yourself a h5 file containing complete dataset"
   ]
  },
  {
   "cell_type": "code",
   "execution_count": 3,
   "metadata": {},
   "outputs": [],
   "source": [
    "data_keys =list(loaded_file['2023_05_08'].keys())\n",
    "# data_keys = [k for k in data_keys if k not in ['bartek_sciana', 'wiatrak_2m_bartek_sciana']]\n",
    "\n",
    "dict_classes = {\n",
    "        'background': SampleType.NOISE,\n",
    "        'bartek': SampleType.BARTEK,\n",
    "        'kuba': SampleType.KUBA,\n",
    "        'oddychacz_2m_o0_s100': SampleType.FAKE,\n",
    "        'oddychacz_2m_o30_s0': SampleType.FAKE,\n",
    "        'oddychacz_2m_o30_s100': SampleType.FAKE,\n",
    "        'oddychacz_3m_o0_s100': SampleType.FAKE,\n",
    "        'oddychacz_3m_o30_s0': SampleType.FAKE,\n",
    "        'oddychacz_3m_o30_s100': SampleType.FAKE,\n",
    "        'oddychacz_4m_o0_s100': SampleType.FAKE,\n",
    "        'oddychacz_4m_o30_s0': SampleType.FAKE,\n",
    "        'oddychacz_4m_o30_s100': SampleType.FAKE,\n",
    "        'oskar': SampleType.OSKAR,\n",
    "        'rafal': SampleType.RAFAL,\n",
    "        'randomowe_chodzonko_bartek': SampleType.BARTEK,\n",
    "        'randomowe_chodzonko_kuba': SampleType.KUBA,\n",
    "        'randomowe_chodzonko_oskar': SampleType.OSKAR,\n",
    "        'randomowe_chodzonko_rafal': SampleType.RAFAL,\n",
    "        'samochod': SampleType.FAKE,\n",
    "        'wiatrak_2m': SampleType.NOISE,\n",
    "        'wiatrak_3m': SampleType.NOISE,\n",
    "        'wiatrak_4m': SampleType.NOISE,\n",
    "        'wiatrak_foliarz_2m': SampleType.NOISE,\n",
    "        'wiatrak_foliarz_3m': SampleType.NOISE,\n",
    "        'wiatrak_foliarz_4m': SampleType.NOISE,\n",
    "}\n"
   ]
  },
  {
   "cell_type": "code",
   "execution_count": 6,
   "metadata": {},
   "outputs": [
    {
     "name": "stdout",
     "output_type": "stream",
     "text": [
      "File not exist, creating file\n",
      "background SampleType.NOISE\n",
      "(13060, 512)\n",
      "(64, 12960, 8)\n",
      "(100, 64, 256, 8)\n",
      "(100,)\n",
      "(100,)\n",
      "(100, 64, 256, 8)\n"
     ]
    }
   ],
   "source": [
    "slices_list = []\n",
    "slices_labels = []\n",
    "margin = 500\n",
    "\n",
    "H5_FILENAME = 'slices_dataset'\n",
    "\n",
    "try:\n",
    "    h5file = h5py.File(H5_FILENAME + '.h5','r+')\n",
    "except:\n",
    "    print('File not exist, creating file')\n",
    "    h5file = h5py.File(H5_FILENAME + '.h5','w')\n",
    "\n",
    "for key in data_keys[:1]:\n",
    "    h5group = h5file.create_group(key)\n",
    "\n",
    "    print(key, dict_classes[key])\n",
    "    sample_file = loaded_file['2023_05_08'][key]\n",
    "    sample_file = sample_file[margin:-margin, 0, 0, :]\n",
    "    print(sample_file.shape)\n",
    "    slices_diff = []\n",
    "    for d in [1,2,3,5,10,25,50,100]:\n",
    "        frames_diff = diff_frames(sample_file, d)  #odejmujemy ostatnią klatkę\n",
    "        diff_spect, y = gen_spectogram(frames_diff)\n",
    "        diff_spect = diff_spect[:64]\n",
    "\n",
    "        diff_spectdb = to_dB(diff_spect)\n",
    "        argmax_spectrogram = get_argmaxed_spectrogram(diff_spectdb)[:,100-d:] # this returns spectrogram with 1 at argmax, else 0\n",
    "        slices_diff.append(argmax_spectrogram)\n",
    "    # stack slices on new axis\n",
    "    slices_diff = np.stack(slices_diff, axis=2)\n",
    "\n",
    "\n",
    "    print(slices_diff.shape)\n",
    "    class_id = dict_classes[key].value\n",
    "    slices = get_spectogram_slices(slices_diff)\n",
    "    print(slices.shape)\n",
    "    labels = np.full(slices.shape[0], class_id)\n",
    "    print(labels.shape)\n",
    "    slices_labels.append(labels)\n",
    "    slices_list.append(slices)\n",
    "    h5group.create_dataset('slices', data=slices)\n",
    "\n",
    "labels = np.concatenate(slices_labels, axis=0)\n",
    "con = np.concatenate(slices_list, axis=0)\n",
    "print(labels.shape)\n",
    "print(con.shape)\n",
    "    "
   ]
  },
  {
   "cell_type": "code",
   "execution_count": 11,
   "metadata": {},
   "outputs": [
    {
     "ename": "MemoryError",
     "evalue": "",
     "output_type": "error",
     "traceback": [
      "\u001b[1;31m---------------------------------------------------------------------------\u001b[0m",
      "\u001b[1;31mMemoryError\u001b[0m                               Traceback (most recent call last)",
      "Cell \u001b[1;32mIn[11], line 3\u001b[0m\n\u001b[0;32m      1\u001b[0m \u001b[39mimport\u001b[39;00m \u001b[39mpickle\u001b[39;00m\n\u001b[0;32m      2\u001b[0m \u001b[39mwith\u001b[39;00m \u001b[39mopen\u001b[39m(\u001b[39m'\u001b[39m\u001b[39mdata_slices_mulitchannel_newshape.pickle\u001b[39m\u001b[39m'\u001b[39m, \u001b[39m'\u001b[39m\u001b[39mwb\u001b[39m\u001b[39m'\u001b[39m) \u001b[39mas\u001b[39;00m f:\n\u001b[1;32m----> 3\u001b[0m     pickle\u001b[39m.\u001b[39;49mdump((con[:\u001b[39m4000\u001b[39;49m], labels[:\u001b[39m4000\u001b[39;49m]), f)\n",
      "\u001b[1;31mMemoryError\u001b[0m: "
     ]
    }
   ],
   "source": [
    "import pickle\n",
    "with open('data_slices_mulitchannel_newshape.pickle', 'wb') as f:\n",
    "    pickle.dump((con[:4000], labels[:4000]), f)"
   ]
  },
  {
   "cell_type": "code",
   "execution_count": 12,
   "metadata": {},
   "outputs": [],
   "source": [
    "# save as npy\n",
    "np.save('data_slices_mulitchannel_newshape_labels.npy', labels)"
   ]
  },
  {
   "cell_type": "code",
   "execution_count": 13,
   "metadata": {},
   "outputs": [],
   "source": [
    "np.save('data_slices_mulitchannel_newshape.npy', con)"
   ]
  },
  {
   "cell_type": "code",
   "execution_count": 1,
   "metadata": {},
   "outputs": [],
   "source": [
    "# load npy\n",
    "import numpy as np\n",
    "con = np.load('data_slices_mulitchannel_newshape.npy')"
   ]
  },
  {
   "cell_type": "code",
   "execution_count": 7,
   "metadata": {},
   "outputs": [],
   "source": [
    "new_h5 = h5py.File('slices_dataset.h5', 'r')\n"
   ]
  },
  {
   "cell_type": "code",
   "execution_count": 12,
   "metadata": {},
   "outputs": [
    {
     "data": {
      "text/plain": [
       "<HDF5 dataset \"slices\": shape (100, 64, 256, 8), type \"<f8\">"
      ]
     },
     "execution_count": 12,
     "metadata": {},
     "output_type": "execute_result"
    }
   ],
   "source": [
    "new_h5['background']['slices']"
   ]
  },
  {
   "cell_type": "code",
   "execution_count": null,
   "metadata": {},
   "outputs": [],
   "source": []
  }
 ],
 "metadata": {
  "kernelspec": {
   "display_name": "base",
   "language": "python",
   "name": "python3"
  },
  "language_info": {
   "codemirror_mode": {
    "name": "ipython",
    "version": 3
   },
   "file_extension": ".py",
   "mimetype": "text/x-python",
   "name": "python",
   "nbconvert_exporter": "python",
   "pygments_lexer": "ipython3",
   "version": "3.9.12"
  },
  "orig_nbformat": 4
 },
 "nbformat": 4,
 "nbformat_minor": 2
}
