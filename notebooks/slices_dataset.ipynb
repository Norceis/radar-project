{
 "cells": [
  {
   "cell_type": "code",
   "execution_count": 1,
   "metadata": {},
   "outputs": [],
   "source": [
    "from enum import Enum\n",
    "from pathlib import Path\n",
    "import numpy as np\n",
    "import h5py\n",
    "import sys \n",
    "sys.path.append('../')\n",
    "\n",
    "from source.helper import to_dB, print_spectogram, gen_spectogram, diff_frames, \\\n",
    "                          get_argmaxed_spectrogram, get_tresholded_spectogram,  \\\n",
    "                          get_spectrogram_metrics, plot_metrics, get_spectogram_slices\n",
    "\n",
    "\n",
    "class SampleType(Enum):\n",
    "    DEAD = 0\n",
    "    LIVE = 1"
   ]
  },
  {
   "cell_type": "code",
   "execution_count": 2,
   "metadata": {},
   "outputs": [],
   "source": [
    "BASE_DIR = Path(\"D:/SIIUM/3 semestr/RADAR/radar-project/data\")  # change to your project dir\n",
    "\n",
    "loaded_file = h5py.File(BASE_DIR / 'complete_dataset.h5', 'r') # best to make yourself a h5 file containing complete dataset"
   ]
  },
  {
   "cell_type": "code",
   "execution_count": 3,
   "metadata": {},
   "outputs": [],
   "source": [
    "data_keys =list(loaded_file['2023_03_21'].keys())\n",
    "\n",
    "data_keys = [k for k in data_keys if k not in ['bartek_sciana', 'wiatrak_2m_bartek_sciana']]\n",
    "\n",
    "dict_classes = {'background': SampleType.DEAD, \n",
    "           'bartek_sciana': SampleType.DEAD,  \n",
    "           'biegunko_1os_2m_rafal': SampleType.LIVE, \n",
    "           'chodzonko_1os_2m_bartek': SampleType.LIVE,  \n",
    "           'chodzonko_1os_4-1-8m_bartek': SampleType.LIVE, \n",
    "           'chodzonko_2os_2m_bartek_3m_oskar': SampleType.LIVE,  \n",
    "           'chodzonko_2os_2m_oskar_3m_bartek': SampleType.LIVE, \n",
    "           'odleglosc_1m_bartek_bokiem': SampleType.LIVE, \n",
    "           'odleglosc_1m_bartek_przodem': SampleType.LIVE, \n",
    "           'odleglosc_2m_bartek_bokiem': SampleType.LIVE, \n",
    "           'odleglosc_2m_bartek_przodem': SampleType.LIVE, \n",
    "           'odleglosc_3m_bartek_bokiem': SampleType.LIVE, \n",
    "           'odleglosc_3m_bartek_przodem': SampleType.LIVE, \n",
    "           'odleglosc_4m_bartek_bokiem': SampleType.LIVE, \n",
    "           'odleglosc_4m_bartek_przodem': SampleType.LIVE, \n",
    "           'randomowe_chodzonko_1os_bartek' : SampleType.LIVE, \n",
    "           'randomowe_chodzonko_3os': SampleType.LIVE, \n",
    "           'wiatrak_1m': SampleType.DEAD, \n",
    "           'wiatrak_2m': SampleType.DEAD, \n",
    "           'wiatrak_2m_bartek_sciana': SampleType.DEAD, \n",
    "           'wiatrak_3m': SampleType.DEAD,  \n",
    "           'wiatrak_4m': SampleType.DEAD,  \n",
    "           'wysoki_niski_3m_oskar_bartek_przodem': SampleType.LIVE, \n",
    "}\n"
   ]
  },
  {
   "cell_type": "code",
   "execution_count": 4,
   "metadata": {},
   "outputs": [
    {
     "name": "stdout",
     "output_type": "stream",
     "text": [
      "background SampleType.DEAD\n",
      "(130, 54, 216, 1)\n",
      "biegunko_1os_2m_rafal SampleType.LIVE\n",
      "(63, 54, 216, 1)\n",
      "chodzonko_1os_2m_bartek SampleType.LIVE\n",
      "(116, 54, 216, 1)\n",
      "chodzonko_1os_4-1-8m_bartek SampleType.LIVE\n",
      "(141, 54, 216, 1)\n",
      "chodzonko_2os_2m_bartek_3m_oskar SampleType.LIVE\n",
      "(144, 54, 216, 1)\n",
      "chodzonko_2os_2m_oskar_3m_bartek SampleType.LIVE\n",
      "(135, 54, 216, 1)\n",
      "odleglosc_1m_bartek_bokiem SampleType.LIVE\n",
      "(123, 54, 216, 1)\n",
      "odleglosc_1m_bartek_przodem SampleType.LIVE\n",
      "(131, 54, 216, 1)\n",
      "odleglosc_2m_bartek_bokiem SampleType.LIVE\n",
      "(112, 54, 216, 1)\n",
      "odleglosc_2m_bartek_przodem SampleType.LIVE\n",
      "(122, 54, 216, 1)\n",
      "odleglosc_3m_bartek_bokiem SampleType.LIVE\n",
      "(149, 54, 216, 1)\n",
      "odleglosc_3m_bartek_przodem SampleType.LIVE\n",
      "(104, 54, 216, 1)\n",
      "odleglosc_4m_bartek_bokiem SampleType.LIVE\n",
      "(134, 54, 216, 1)\n",
      "odleglosc_4m_bartek_przodem SampleType.LIVE\n",
      "(130, 54, 216, 1)\n",
      "randomowe_chodzonko_1os_bartek SampleType.LIVE\n"
     ]
    },
    {
     "name": "stderr",
     "output_type": "stream",
     "text": [
      "d:\\SIIUM\\3 semestr\\RADAR\\radar-project\\notebooks\\..\\source\\helper.py:35: RuntimeWarning: divide by zero encountered in log\n",
      "  return 20 * np.log(np.abs(spectogram))\n"
     ]
    },
    {
     "name": "stdout",
     "output_type": "stream",
     "text": [
      "(183, 54, 216, 1)\n",
      "randomowe_chodzonko_3os SampleType.LIVE\n",
      "(199, 54, 216, 1)\n",
      "wiatrak_1m SampleType.DEAD\n",
      "(115, 54, 216, 1)\n",
      "wiatrak_2m SampleType.DEAD\n",
      "(148, 54, 216, 1)\n",
      "wiatrak_3m SampleType.DEAD\n",
      "(109, 54, 216, 1)\n",
      "wiatrak_4m SampleType.DEAD\n",
      "(124, 54, 216, 1)\n",
      "wysoki_niski_3m_oskar_bartek_przodem SampleType.LIVE\n",
      "(316, 54, 216, 1)\n"
     ]
    }
   ],
   "source": [
    "slices_list = []\n",
    "for key in data_keys:\n",
    "    print(key, dict_classes[key])\n",
    "    sample_file = loaded_file['2023_03_21'][key]\n",
    "    sample_file = sample_file[:, 0, 0, :]\n",
    "    frames_diff = diff_frames(sample_file, 1)  #odejmujemy ostatnią klatkę\n",
    "    diff_spect, y = gen_spectogram(frames_diff, depth_limit=8)\n",
    "    diff_spectdb = to_dB(diff_spect)\n",
    "    argmax_spectrogram = get_argmaxed_spectrogram(diff_spectdb) # this returns spectrogram with 1 at argmax, else 0\n",
    "    class_id = dict_classes[key].value\n",
    "    slices = get_spectogram_slices(argmax_spectrogram, class_id=class_id)\n",
    "    print(slices.shape)\n",
    "    slices_list.append(slices)\n",
    "con = np.concatenate(slices_list, axis=0)\n",
    "    "
   ]
  },
  {
   "cell_type": "code",
   "execution_count": 5,
   "metadata": {},
   "outputs": [
    {
     "data": {
      "text/plain": [
       "(2928, 54, 216, 1)"
      ]
     },
     "execution_count": 5,
     "metadata": {},
     "output_type": "execute_result"
    }
   ],
   "source": [
    "con.shape"
   ]
  },
  {
   "cell_type": "code",
   "execution_count": 7,
   "metadata": {},
   "outputs": [],
   "source": [
    "with open('data_slices2.npy', 'wb') as f:\n",
    "    np.save(f, con)"
   ]
  }
 ],
 "metadata": {
  "kernelspec": {
   "display_name": "base",
   "language": "python",
   "name": "python3"
  },
  "language_info": {
   "codemirror_mode": {
    "name": "ipython",
    "version": 3
   },
   "file_extension": ".py",
   "mimetype": "text/x-python",
   "name": "python",
   "nbconvert_exporter": "python",
   "pygments_lexer": "ipython3",
   "version": "3.9.12"
  },
  "orig_nbformat": 4
 },
 "nbformat": 4,
 "nbformat_minor": 2
}
