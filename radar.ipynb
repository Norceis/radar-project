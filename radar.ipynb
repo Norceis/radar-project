{
  "nbformat": 4,
  "nbformat_minor": 0,
  "metadata": {
    "colab": {
      "provenance": [],
      "gpuType": "T4",
      "authorship_tag": "ABX9TyNlCZydZBsZ0Iy1rp7gyURp",
      "include_colab_link": true
    },
    "kernelspec": {
      "name": "python3",
      "display_name": "Python 3"
    },
    "language_info": {
      "name": "python"
    },
    "accelerator": "GPU",
    "gpuClass": "standard"
  },
  "cells": [
    {
      "cell_type": "markdown",
      "metadata": {
        "id": "view-in-github",
        "colab_type": "text"
      },
      "source": [
        "<a href=\"https://colab.research.google.com/github/Norceis/radar-project/blob/main/radar.ipynb\" target=\"_parent\"><img src=\"https://colab.research.google.com/assets/colab-badge.svg\" alt=\"Open In Colab\"/></a>"
      ]
    },
    {
      "cell_type": "code",
      "execution_count": 4,
      "metadata": {
        "colab": {
          "base_uri": "https://localhost:8080/"
        },
        "id": "jOJbhl_xg4fz",
        "outputId": "fd98b575-465a-4dd1-9f4f-2321fed91e68"
      },
      "outputs": [
        {
          "output_type": "stream",
          "name": "stdout",
          "text": [
            "Drive already mounted at /content/drive; to attempt to forcibly remount, call drive.mount(\"/content/drive\", force_remount=True).\n"
          ]
        }
      ],
      "source": [
        "import numpy as np\n",
        "import pickle\n",
        "\n",
        "import tensorflow as tf\n",
        "from tensorflow import keras\n",
        "from tensorflow.keras.layers import Input, Dense, Reshape, Flatten, concatenate, Activation, Concatenate, Conv2DTranspose, Conv2D, Dropout, MaxPooling2D\n",
        "from tensorflow.keras.layers import BatchNormalization\n",
        "from tensorflow.keras.layers import LeakyReLU\n",
        "from tensorflow.keras.models import Sequential, Model\n",
        "from tensorflow.keras.optimizers import Adam\n",
        "from tensorflow.keras.utils import to_categorical\n",
        "from google.colab import drive\n",
        "\n",
        "from sklearn.model_selection import train_test_split\n",
        "\n",
        "drive.mount('/content/drive')"
      ]
    },
    {
      "cell_type": "code",
      "source": [
        "with open('drive/MyDrive/data_slices2.pickle', 'rb') as f:\n",
        "    x, y = pickle.load(f)\n",
        "\n",
        "x = x[..., np.newaxis] #slices\n",
        "\n",
        "print(x.shape, y.shape)\n",
        "\n",
        "img_shape = x[0].shape\n",
        "\n",
        "x_train, x_test, y_train, y_test = train_test_split(x, y, test_size=0.2)"
      ],
      "metadata": {
        "colab": {
          "base_uri": "https://localhost:8080/"
        },
        "id": "in61-1M_hMpz",
        "outputId": "041f87f4-704b-4a76-b1e6-6bf388dcf5ec"
      },
      "execution_count": 2,
      "outputs": [
        {
          "output_type": "stream",
          "name": "stdout",
          "text": [
            "(2928, 54, 216, 1) (2928,)\n"
          ]
        }
      ]
    },
    {
      "cell_type": "code",
      "source": [
        "model = Sequential()\n",
        "\n",
        "model.add(Conv2D(16, (3,3), padding='same', input_shape=img_shape))\n",
        "model.add(MaxPooling2D())\n",
        "model.add(LeakyReLU())\n",
        "model.add(Dropout(0.3))\n",
        "\n",
        "model.add(Conv2D(32, (3,3), strides=(2, 2), padding='same'))\n",
        "model.add(MaxPooling2D())\n",
        "model.add(LeakyReLU())\n",
        "model.add(Dropout(0.3))\n",
        "\n",
        "model.add(Conv2D(64, (3,3), strides=(2, 2), padding='same'))\n",
        "model.add(MaxPooling2D())\n",
        "model.add(LeakyReLU())\n",
        "model.add(Dropout(0.3))\n",
        "\n",
        "model.add(Flatten())\n",
        "model.add(Dense(512))\n",
        "model.add(LeakyReLU())\n",
        "model.add(Dropout(0.3))\n",
        "model.add(Dense(1, activation='sigmoid'))\n",
        "model.summary()\n",
        "\n",
        "slice = Input(shape=img_shape)\n",
        "pred = model(slice)\n",
        "radar_model = Model(slice, pred)\n",
        "\n",
        "\n",
        "METRICS = [\n",
        "      keras.metrics.TruePositives(name='tp'),\n",
        "      keras.metrics.FalsePositives(name='fp'),\n",
        "      keras.metrics.TrueNegatives(name='tn'),\n",
        "      keras.metrics.FalseNegatives(name='fn'), \n",
        "      keras.metrics.BinaryAccuracy(name='accuracy'),\n",
        "      keras.metrics.Precision(name='precision'),\n",
        "      keras.metrics.Recall(name='recall'),\n",
        "      keras.metrics.AUC(name='auc'),\n",
        "      keras.metrics.AUC(name='prc', curve='PR'), # precision-recall curve\n",
        "]\n",
        "\n",
        "\n",
        "# optimizer = Adam(0.0002, 0.5)\n",
        "radar_model.compile(loss='binary_crossentropy',\n",
        "                          optimizer='Adam',\n",
        "                        metrics=METRICS)"
      ],
      "metadata": {
        "colab": {
          "base_uri": "https://localhost:8080/"
        },
        "id": "9O7pPpZpiAZq",
        "outputId": "fe2cdda2-7171-45a6-f42e-18ec290d4f8f"
      },
      "execution_count": 7,
      "outputs": [
        {
          "output_type": "stream",
          "name": "stdout",
          "text": [
            "Model: \"sequential_2\"\n",
            "_________________________________________________________________\n",
            " Layer (type)                Output Shape              Param #   \n",
            "=================================================================\n",
            " conv2d_6 (Conv2D)           (None, 54, 216, 16)       160       \n",
            "                                                                 \n",
            " max_pooling2d_6 (MaxPooling  (None, 27, 108, 16)      0         \n",
            " 2D)                                                             \n",
            "                                                                 \n",
            " leaky_re_lu_8 (LeakyReLU)   (None, 27, 108, 16)       0         \n",
            "                                                                 \n",
            " dropout_8 (Dropout)         (None, 27, 108, 16)       0         \n",
            "                                                                 \n",
            " conv2d_7 (Conv2D)           (None, 14, 54, 32)        4640      \n",
            "                                                                 \n",
            " max_pooling2d_7 (MaxPooling  (None, 7, 27, 32)        0         \n",
            " 2D)                                                             \n",
            "                                                                 \n",
            " leaky_re_lu_9 (LeakyReLU)   (None, 7, 27, 32)         0         \n",
            "                                                                 \n",
            " dropout_9 (Dropout)         (None, 7, 27, 32)         0         \n",
            "                                                                 \n",
            " conv2d_8 (Conv2D)           (None, 4, 14, 64)         18496     \n",
            "                                                                 \n",
            " max_pooling2d_8 (MaxPooling  (None, 2, 7, 64)         0         \n",
            " 2D)                                                             \n",
            "                                                                 \n",
            " leaky_re_lu_10 (LeakyReLU)  (None, 2, 7, 64)          0         \n",
            "                                                                 \n",
            " dropout_10 (Dropout)        (None, 2, 7, 64)          0         \n",
            "                                                                 \n",
            " flatten_2 (Flatten)         (None, 896)               0         \n",
            "                                                                 \n",
            " dense_4 (Dense)             (None, 512)               459264    \n",
            "                                                                 \n",
            " leaky_re_lu_11 (LeakyReLU)  (None, 512)               0         \n",
            "                                                                 \n",
            " dropout_11 (Dropout)        (None, 512)               0         \n",
            "                                                                 \n",
            " dense_5 (Dense)             (None, 1)                 513       \n",
            "                                                                 \n",
            "=================================================================\n",
            "Total params: 483,073\n",
            "Trainable params: 483,073\n",
            "Non-trainable params: 0\n",
            "_________________________________________________________________\n"
          ]
        }
      ]
    },
    {
      "cell_type": "code",
      "source": [
        "radar_model.fit(x_train, y_train, batch_size=32, epochs=20)"
      ],
      "metadata": {
        "colab": {
          "base_uri": "https://localhost:8080/"
        },
        "id": "ZFmGuLGxjbK1",
        "outputId": "d7f34a70-2ac8-460e-da09-85b6771bcf19"
      },
      "execution_count": 8,
      "outputs": [
        {
          "output_type": "stream",
          "name": "stdout",
          "text": [
            "Epoch 1/20\n",
            "74/74 [==============================] - 3s 9ms/step - loss: 0.4175 - tp: 1765.0000 - fp: 347.0000 - tn: 173.0000 - fn: 57.0000 - accuracy: 0.8275 - precision: 0.8357 - recall: 0.9687 - auc: 0.8009 - prc: 0.9201\n",
            "Epoch 2/20\n",
            "74/74 [==============================] - 1s 9ms/step - loss: 0.2422 - tp: 1788.0000 - fp: 151.0000 - tn: 369.0000 - fn: 34.0000 - accuracy: 0.9210 - precision: 0.9221 - recall: 0.9813 - auc: 0.9245 - prc: 0.9732\n",
            "Epoch 3/20\n",
            "74/74 [==============================] - 1s 11ms/step - loss: 0.1901 - tp: 1807.0000 - fp: 116.0000 - tn: 404.0000 - fn: 15.0000 - accuracy: 0.9441 - precision: 0.9397 - recall: 0.9918 - auc: 0.9428 - prc: 0.9792\n",
            "Epoch 4/20\n",
            "74/74 [==============================] - 1s 11ms/step - loss: 0.1711 - tp: 1809.0000 - fp: 107.0000 - tn: 413.0000 - fn: 13.0000 - accuracy: 0.9488 - precision: 0.9442 - recall: 0.9929 - auc: 0.9522 - prc: 0.9833\n",
            "Epoch 5/20\n",
            "74/74 [==============================] - 1s 12ms/step - loss: 0.1688 - tp: 1807.0000 - fp: 109.0000 - tn: 411.0000 - fn: 15.0000 - accuracy: 0.9471 - precision: 0.9431 - recall: 0.9918 - auc: 0.9538 - prc: 0.9833\n",
            "Epoch 6/20\n",
            "74/74 [==============================] - 1s 11ms/step - loss: 0.1558 - tp: 1814.0000 - fp: 109.0000 - tn: 411.0000 - fn: 8.0000 - accuracy: 0.9500 - precision: 0.9433 - recall: 0.9956 - auc: 0.9621 - prc: 0.9874\n",
            "Epoch 7/20\n",
            "74/74 [==============================] - 1s 10ms/step - loss: 0.1392 - tp: 1814.0000 - fp: 100.0000 - tn: 420.0000 - fn: 8.0000 - accuracy: 0.9539 - precision: 0.9478 - recall: 0.9956 - auc: 0.9706 - prc: 0.9902\n",
            "Epoch 8/20\n",
            "74/74 [==============================] - 1s 8ms/step - loss: 0.1466 - tp: 1801.0000 - fp: 104.0000 - tn: 416.0000 - fn: 21.0000 - accuracy: 0.9466 - precision: 0.9454 - recall: 0.9885 - auc: 0.9706 - prc: 0.9898\n",
            "Epoch 9/20\n",
            "74/74 [==============================] - 1s 8ms/step - loss: 0.1270 - tp: 1811.0000 - fp: 95.0000 - tn: 425.0000 - fn: 11.0000 - accuracy: 0.9547 - precision: 0.9502 - recall: 0.9940 - auc: 0.9769 - prc: 0.9921\n",
            "Epoch 10/20\n",
            "74/74 [==============================] - 1s 8ms/step - loss: 0.1100 - tp: 1802.0000 - fp: 85.0000 - tn: 435.0000 - fn: 20.0000 - accuracy: 0.9552 - precision: 0.9550 - recall: 0.9890 - auc: 0.9860 - prc: 0.9956\n",
            "Epoch 11/20\n",
            "74/74 [==============================] - 1s 8ms/step - loss: 0.1069 - tp: 1804.0000 - fp: 83.0000 - tn: 437.0000 - fn: 18.0000 - accuracy: 0.9569 - precision: 0.9560 - recall: 0.9901 - auc: 0.9858 - prc: 0.9952\n",
            "Epoch 12/20\n",
            "74/74 [==============================] - 1s 8ms/step - loss: 0.1116 - tp: 1797.0000 - fp: 72.0000 - tn: 448.0000 - fn: 25.0000 - accuracy: 0.9586 - precision: 0.9615 - recall: 0.9863 - auc: 0.9882 - prc: 0.9964\n",
            "Epoch 13/20\n",
            "74/74 [==============================] - 1s 8ms/step - loss: 0.0876 - tp: 1798.0000 - fp: 56.0000 - tn: 464.0000 - fn: 24.0000 - accuracy: 0.9658 - precision: 0.9698 - recall: 0.9868 - auc: 0.9899 - prc: 0.9961\n",
            "Epoch 14/20\n",
            "74/74 [==============================] - 1s 8ms/step - loss: 0.0691 - tp: 1808.0000 - fp: 46.0000 - tn: 474.0000 - fn: 14.0000 - accuracy: 0.9744 - precision: 0.9752 - recall: 0.9923 - auc: 0.9934 - prc: 0.9973\n",
            "Epoch 15/20\n",
            "74/74 [==============================] - 1s 8ms/step - loss: 0.0740 - tp: 1800.0000 - fp: 41.0000 - tn: 479.0000 - fn: 22.0000 - accuracy: 0.9731 - precision: 0.9777 - recall: 0.9879 - auc: 0.9944 - prc: 0.9984\n",
            "Epoch 16/20\n",
            "74/74 [==============================] - 1s 8ms/step - loss: 0.0639 - tp: 1806.0000 - fp: 39.0000 - tn: 481.0000 - fn: 16.0000 - accuracy: 0.9765 - precision: 0.9789 - recall: 0.9912 - auc: 0.9952 - prc: 0.9982\n",
            "Epoch 17/20\n",
            "74/74 [==============================] - 1s 8ms/step - loss: 0.0615 - tp: 1803.0000 - fp: 32.0000 - tn: 488.0000 - fn: 19.0000 - accuracy: 0.9782 - precision: 0.9826 - recall: 0.9896 - auc: 0.9949 - prc: 0.9981\n",
            "Epoch 18/20\n",
            "74/74 [==============================] - 1s 8ms/step - loss: 0.0745 - tp: 1807.0000 - fp: 51.0000 - tn: 469.0000 - fn: 15.0000 - accuracy: 0.9718 - precision: 0.9726 - recall: 0.9918 - auc: 0.9935 - prc: 0.9980\n",
            "Epoch 19/20\n",
            "74/74 [==============================] - 1s 8ms/step - loss: 0.0471 - tp: 1808.0000 - fp: 29.0000 - tn: 491.0000 - fn: 14.0000 - accuracy: 0.9816 - precision: 0.9842 - recall: 0.9923 - auc: 0.9977 - prc: 0.9993\n",
            "Epoch 20/20\n",
            "74/74 [==============================] - 1s 8ms/step - loss: 0.0524 - tp: 1807.0000 - fp: 27.0000 - tn: 493.0000 - fn: 15.0000 - accuracy: 0.9821 - precision: 0.9853 - recall: 0.9918 - auc: 0.9962 - prc: 0.9985\n"
          ]
        },
        {
          "output_type": "execute_result",
          "data": {
            "text/plain": [
              "<keras.callbacks.History at 0x7f0bd81cf520>"
            ]
          },
          "metadata": {},
          "execution_count": 8
        }
      ]
    },
    {
      "cell_type": "code",
      "source": [
        "radar_model.evaluate(x_test, y_test)\n"
      ],
      "metadata": {
        "colab": {
          "base_uri": "https://localhost:8080/"
        },
        "id": "bKiKXzoumiEs",
        "outputId": "9e2dc026-3305-4810-ddf5-c81e741451e5"
      },
      "execution_count": 9,
      "outputs": [
        {
          "output_type": "stream",
          "name": "stdout",
          "text": [
            "19/19 [==============================] - 1s 12ms/step - loss: 0.1923 - tp: 464.0000 - fp: 17.0000 - tn: 89.0000 - fn: 16.0000 - accuracy: 0.9437 - precision: 0.9647 - recall: 0.9667 - auc: 0.9519 - prc: 0.9835\n"
          ]
        },
        {
          "output_type": "execute_result",
          "data": {
            "text/plain": [
              "[0.1923338919878006,\n",
              " 464.0,\n",
              " 17.0,\n",
              " 89.0,\n",
              " 16.0,\n",
              " 0.9436860084533691,\n",
              " 0.9646569490432739,\n",
              " 0.9666666388511658,\n",
              " 0.9519261121749878,\n",
              " 0.9834976196289062]"
            ]
          },
          "metadata": {},
          "execution_count": 9
        }
      ]
    },
    {
      "cell_type": "code",
      "source": [
        "np.unique(y, return_counts=True)"
      ],
      "metadata": {
        "colab": {
          "base_uri": "https://localhost:8080/"
        },
        "id": "b_JSjZ2xv74u",
        "outputId": "94ec4775-3f32-461f-9320-bda4860e4e59"
      },
      "execution_count": null,
      "outputs": [
        {
          "output_type": "execute_result",
          "data": {
            "text/plain": [
              "(array([0, 1], dtype=int32), array([ 626, 2302]))"
            ]
          },
          "metadata": {},
          "execution_count": 36
        }
      ]
    },
    {
      "cell_type": "code",
      "source": [
        "626/(626 + 2302), 2302/(626 + 2302)"
      ],
      "metadata": {
        "colab": {
          "base_uri": "https://localhost:8080/"
        },
        "id": "DyEWjFeHwJyQ",
        "outputId": "8f4c25e5-e613-47dc-f892-68685a9c4ee5"
      },
      "execution_count": null,
      "outputs": [
        {
          "output_type": "execute_result",
          "data": {
            "text/plain": [
              "(0.21379781420765026, 0.7862021857923497)"
            ]
          },
          "metadata": {},
          "execution_count": 37
        }
      ]
    }
  ]
}